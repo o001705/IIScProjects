{
  "nbformat": 4,
  "nbformat_minor": 0,
  "metadata": {
    "colab": {
      "provenance": [],
      "include_colab_link": true
    },
    "kernelspec": {
      "name": "python3",
      "display_name": "Python 3"
    },
    "language_info": {
      "name": "python"
    }
  },
  "cells": [
    {
      "cell_type": "markdown",
      "metadata": {
        "id": "view-in-github",
        "colab_type": "text"
      },
      "source": [
        "<a href=\"https://colab.research.google.com/github/o001705/IIScProjects/blob/main/M1_AST_01_Linear_Algebra_A.ipynb\" target=\"_parent\"><img src=\"https://colab.research.google.com/assets/colab-badge.svg\" alt=\"Open In Colab\"/></a>"
      ]
    },
    {
      "cell_type": "markdown",
      "metadata": {
        "id": "p4Nwm4FK3wgU"
      },
      "source": [
        "# Advanced Programme in Deep Learning (Foundations and Applications)\n",
        "## A Program by IISc and TalentSprint\n",
        "### Assignment 1: Linear Algebra"
      ]
    },
    {
      "cell_type": "markdown",
      "metadata": {
        "id": "dHj34EaN5oa5"
      },
      "source": [
        "## Learning Objectives"
      ]
    },
    {
      "cell_type": "markdown",
      "metadata": {
        "id": "-vPeurvKNAEz"
      },
      "source": [
        "At the end of the assignment, you will be able to\n",
        "* understand matrix, types of matrix, vectors and its related operations\n",
        "* solve the system of linear equation using matrix solution\n",
        "* implement concepts related to eigen vectors and values\n",
        "\n"
      ]
    },
    {
      "cell_type": "markdown",
      "metadata": {
        "id": "BNLA8HiKxQhc"
      },
      "source": [
        "### Setup Steps:"
      ]
    },
    {
      "cell_type": "code",
      "metadata": {
        "id": "xWMVQWk58aXm"
      },
      "source": [
        "#@title Please enter your registration id to start: { run: \"auto\", display-mode: \"form\" }\n",
        "Id = \"2237536\" #@param {type:\"string\"}"
      ],
      "execution_count": 2,
      "outputs": []
    },
    {
      "cell_type": "code",
      "metadata": {
        "id": "cwqosl928dBA"
      },
      "source": [
        "#@title Please enter your password (normally your phone number) to continue: { run: \"auto\", display-mode: \"form\" }\n",
        "password = \"9892920569\" #@param {type:\"string\"}"
      ],
      "execution_count": 3,
      "outputs": []
    },
    {
      "cell_type": "code",
      "metadata": {
        "cellView": "form",
        "id": "tiixLYqgtRm1",
        "colab": {
          "base_uri": "https://localhost:8080/",
          "height": 35
        },
        "outputId": "85c66b5b-7ec6-4cb4-c210-c909bc0786c4"
      },
      "source": [
        "#@title Run this cell to complete the setup for this Notebook\n",
        "from IPython import get_ipython\n",
        "import warnings\n",
        "warnings.filterwarnings(\"ignore\")\n",
        "\n",
        "ipython = get_ipython()\n",
        "  \n",
        "notebook= \"M1_AST_01_Linear_Algebra_A\" #name of the notebook\n",
        "\n",
        "def setup():\n",
        "    from IPython.display import HTML, display\n",
        "    display(HTML('<script src=\"https://dashboard.talentsprint.com/aiml/record_ip.html?traineeId={0}&recordId={1}\"></script>'.format(getId(),submission_id)))\n",
        "    print(\"Setup completed successfully\")\n",
        "    return\n",
        "\n",
        "def submit_notebook():\n",
        "    ipython.magic(\"notebook -e \"+ notebook + \".ipynb\")\n",
        "    \n",
        "    import requests, json, base64, datetime\n",
        "\n",
        "    url = \"https://dashboard.talentsprint.com/xp/app/save_notebook_attempts\"\n",
        "    if not submission_id:\n",
        "      data = {\"id\" : getId(), \"notebook\" : notebook, \"mobile\" : getPassword()}\n",
        "      r = requests.post(url, data = data)\n",
        "      r = json.loads(r.text)\n",
        "\n",
        "      if r[\"status\"] == \"Success\":\n",
        "          return r[\"record_id\"]\n",
        "      elif \"err\" in r:        \n",
        "        print(r[\"err\"])\n",
        "        return None        \n",
        "      else:\n",
        "        print (\"Something is wrong, the notebook will not be submitted for grading\")\n",
        "        return None\n",
        "    \n",
        "    elif getAnswer1() and getAnswer2() and getComplexity() and getAdditional() and getConcepts() and getComments() and getMentorSupport():\n",
        "      f = open(notebook + \".ipynb\", \"rb\")\n",
        "      file_hash = base64.b64encode(f.read())\n",
        "\n",
        "      data = {\"complexity\" : Complexity, \"additional\" :Additional, \n",
        "              \"concepts\" : Concepts, \"record_id\" : submission_id, \n",
        "              \"answer1\" : Answer1, \"answer2\" : Answer2, \"id\" : Id, \"file_hash\" : file_hash,\n",
        "              \"notebook\" : notebook,\n",
        "              \"feedback_experiments_input\" : Comments,\n",
        "              \"feedback_mentor_support\": Mentor_support}\n",
        "      r = requests.post(url, data = data)\n",
        "      r = json.loads(r.text)\n",
        "      if \"err\" in r:        \n",
        "        print(r[\"err\"])\n",
        "        return None   \n",
        "      else:\n",
        "        print(\"Your submission is successful.\")\n",
        "        print(\"Ref Id:\", submission_id)\n",
        "        print(\"Date of submission: \", r[\"date\"])\n",
        "        print(\"Time of submission: \", r[\"time\"])\n",
        "        print(\"View your submissions: https://dlfa-iisc.talentsprint.com/notebook_submissions\")\n",
        "        #print(\"For any queries/discrepancies, please connect with mentors through the chat icon in LMS dashboard.\")\n",
        "        return submission_id\n",
        "    else: submission_id\n",
        "    \n",
        "\n",
        "def getAdditional():\n",
        "  try:\n",
        "    if not Additional: \n",
        "      raise NameError\n",
        "    else:\n",
        "      return Additional  \n",
        "  except NameError:\n",
        "    print (\"Please answer Additional Question\")\n",
        "    return None\n",
        "\n",
        "def getComplexity():\n",
        "  try:\n",
        "    if not Complexity:\n",
        "      raise NameError\n",
        "    else:\n",
        "      return Complexity\n",
        "  except NameError:\n",
        "    print (\"Please answer Complexity Question\")\n",
        "    return None\n",
        "  \n",
        "def getConcepts():\n",
        "  try:\n",
        "    if not Concepts:\n",
        "      raise NameError\n",
        "    else:\n",
        "      return Concepts\n",
        "  except NameError:\n",
        "    print (\"Please answer Concepts Question\")\n",
        "    return None\n",
        "  \n",
        "  \n",
        "# def getWalkthrough():\n",
        "#   try:\n",
        "#     if not Walkthrough:\n",
        "#       raise NameError\n",
        "#     else:\n",
        "#       return Walkthrough\n",
        "#   except NameError:\n",
        "#     print (\"Please answer Walkthrough Question\")\n",
        "#     return None\n",
        "  \n",
        "def getComments():\n",
        "  try:\n",
        "    if not Comments:\n",
        "      raise NameError\n",
        "    else:\n",
        "      return Comments\n",
        "  except NameError:\n",
        "    print (\"Please answer Comments Question\")\n",
        "    return None\n",
        "  \n",
        "\n",
        "def getMentorSupport():\n",
        "  try:\n",
        "    if not Mentor_support:\n",
        "      raise NameError\n",
        "    else:\n",
        "      return Mentor_support\n",
        "  except NameError:\n",
        "    print (\"Please answer Mentor support Question\")\n",
        "    return None\n",
        "\n",
        "def getAnswer1():\n",
        "  try:\n",
        "    if not Answer1:\n",
        "      raise NameError \n",
        "    else: \n",
        "      return Answer1\n",
        "  except NameError:\n",
        "    print (\"Please answer Question 1\")\n",
        "    return None\n",
        "\n",
        "def getAnswer2():\n",
        "  try:\n",
        "    if not Answer2:\n",
        "      raise NameError \n",
        "    else: \n",
        "      return Answer2\n",
        "  except NameError:\n",
        "    print (\"Please answer Question 2\")\n",
        "    return None\n",
        "  \n",
        "\n",
        "def getId():\n",
        "  try: \n",
        "    return Id if Id else None\n",
        "  except NameError:\n",
        "    return None\n",
        "\n",
        "def getPassword():\n",
        "  try:\n",
        "    return password if password else None\n",
        "  except NameError:\n",
        "    return None\n",
        "\n",
        "submission_id = None\n",
        "### Setup \n",
        "if getPassword() and getId():\n",
        "  submission_id = submit_notebook()\n",
        "  if submission_id:\n",
        "    setup() \n",
        "else:\n",
        "  print (\"Please complete Id and Password cells before running setup\")\n",
        "\n"
      ],
      "execution_count": 4,
      "outputs": [
        {
          "output_type": "display_data",
          "data": {
            "text/plain": [
              "<IPython.core.display.HTML object>"
            ],
            "text/html": [
              "<script src=\"https://dashboard.talentsprint.com/aiml/record_ip.html?traineeId=2237536&recordId=20\"></script>"
            ]
          },
          "metadata": {}
        },
        {
          "output_type": "stream",
          "name": "stdout",
          "text": [
            "Setup completed successfully\n"
          ]
        }
      ]
    },
    {
      "cell_type": "markdown",
      "metadata": {
        "id": "n3NoHPIp2cD_"
      },
      "source": [
        "### Importing required packages"
      ]
    },
    {
      "cell_type": "code",
      "metadata": {
        "id": "RVxoU0VULvQJ"
      },
      "source": [
        "import numpy as np\n",
        "from math import *\n",
        "from numpy import array\n",
        "from numpy import diag\n",
        "from numpy import dot\n",
        "from numpy import zeros\n",
        "from numpy import linalg as la\n",
        "from numpy.linalg import eig"
      ],
      "execution_count": 5,
      "outputs": []
    },
    {
      "cell_type": "markdown",
      "metadata": {
        "id": "xKcaAPQsztm7"
      },
      "source": [
        "### Types of Matrix"
      ]
    },
    {
      "cell_type": "markdown",
      "metadata": {
        "id": "FXLJK17WoNV8"
      },
      "source": [
        "**Square Matrix**: In square matrix, the number of rows are equal to the number of columns."
      ]
    },
    {
      "cell_type": "markdown",
      "metadata": {
        "id": "tvEn246jz12l"
      },
      "source": [
        "1. Create a square matrix with elements 61 to 69. "
      ]
    },
    {
      "cell_type": "code",
      "metadata": {
        "id": "dEFZ0ejYzzUO",
        "colab": {
          "base_uri": "https://localhost:8080/"
        },
        "outputId": "da94b4a0-275c-4498-f114-c21f55956ee3"
      },
      "source": [
        "elements = np.arange(61, 70)\n",
        "matrix = elements.reshape(3,3) \n",
        "print(matrix)"
      ],
      "execution_count": 6,
      "outputs": [
        {
          "output_type": "stream",
          "name": "stdout",
          "text": [
            "[[61 62 63]\n",
            " [64 65 66]\n",
            " [67 68 69]]\n"
          ]
        }
      ]
    },
    {
      "cell_type": "markdown",
      "metadata": {
        "id": "hutiOEovoSJe"
      },
      "source": [
        "\n",
        "**Upper Triangular Matrix**: It is a type of square matrix, where all the values below the main diagonal are 0.\n",
        "\n",
        "**Lower Triangular Matrix**: It is a type of square matrix, where all the values above the main diagonal are 0.\n"
      ]
    },
    {
      "cell_type": "markdown",
      "metadata": {
        "id": "1Qn7OVNAz_f0"
      },
      "source": [
        "2. Create an upper and lower triangular matrix of size 6x6 with random values."
      ]
    },
    {
      "cell_type": "code",
      "metadata": {
        "id": "ki_32Wwj0Cob",
        "colab": {
          "base_uri": "https://localhost:8080/"
        },
        "outputId": "7cfdc5ed-1bcc-4636-c171-91e5e88f6ea2"
      },
      "source": [
        "matrix = np.random.rand(6,6)\n",
        "print(\"Original Matrix:\\n\",matrix)\n",
        "\n",
        "print(\"\\n\\n\")\n",
        "# Upper triangular matrix\n",
        "upper = np.triu(np.random.rand(6,6))\n",
        "\n",
        "# Lower triangular matrix\n",
        "lower = np.tril(np.random.rand(6,6))\n",
        "\n",
        "print(\"Upper Triangular Matrix: \\n\", upper)\n",
        "print(\"\\n\\n\")\n",
        "print(\"Lower Triangular Matrix: \\n\", lower)\n"
      ],
      "execution_count": 8,
      "outputs": [
        {
          "output_type": "stream",
          "name": "stdout",
          "text": [
            "Original Matrix:\n",
            " [[0.6314381  0.65475009 0.643245   0.41754969 0.03873285 0.55504902]\n",
            " [0.23336809 0.49405638 0.34601621 0.65753    0.97028147 0.23532847]\n",
            " [0.20088666 0.34156654 0.87965854 0.65594495 0.24455747 0.81755093]\n",
            " [0.68987462 0.6133764  0.51203911 0.0319479  0.31977782 0.37459817]\n",
            " [0.30270395 0.07799914 0.83626332 0.06488526 0.3136098  0.44924014]\n",
            " [0.64291772 0.09156858 0.64094699 0.25371708 0.03534815 0.83444893]]\n",
            "\n",
            "\n",
            "\n",
            "Upper Triangular Matrix: \n",
            " [[0.86074377 0.42131026 0.75956416 0.46486212 0.30637152 0.32733192]\n",
            " [0.         0.11000644 0.01479844 0.75976963 0.86495232 0.63216822]\n",
            " [0.         0.         0.81799008 0.45886487 0.784527   0.32158289]\n",
            " [0.         0.         0.         0.33064719 0.38489243 0.82352097]\n",
            " [0.         0.         0.         0.         0.92775814 0.98121323]\n",
            " [0.         0.         0.         0.         0.         0.98078132]]\n",
            "\n",
            "\n",
            "\n",
            "Lower Triangular Matrix: \n",
            " [[0.13023795 0.         0.         0.         0.         0.        ]\n",
            " [0.32031945 0.0210647  0.         0.         0.         0.        ]\n",
            " [0.41999344 0.75467819 0.89173325 0.         0.         0.        ]\n",
            " [0.05379984 0.57047455 0.7165193  0.26231606 0.         0.        ]\n",
            " [0.16678503 0.84407245 0.56664967 0.52362433 0.80560599 0.        ]\n",
            " [0.8651461  0.46537469 0.97167932 0.46406473 0.23754761 0.37111903]]\n"
          ]
        }
      ]
    },
    {
      "cell_type": "markdown",
      "metadata": {
        "id": "_HeQxIRHouGh"
      },
      "source": [
        "**Diagonal Matrix**: In a diagonal matrix, all the values are zero except the diagonal values"
      ]
    },
    {
      "cell_type": "markdown",
      "metadata": {
        "id": "M6Jelvnf0DCz"
      },
      "source": [
        "3. Create a diagonal matrix of size 3x3 with integer valules and do the following:\n",
        "\n",
        "  i). Create a diagonal matrix with the values above the diagonal elements.\n",
        "  \n",
        "  ii). Create a diagonal matrix with the values below the diagonal elements.\n",
        "\n",
        "\n",
        "\n"
      ]
    },
    {
      "cell_type": "code",
      "metadata": {
        "id": "5mUGk70z0II8",
        "colab": {
          "base_uri": "https://localhost:8080/"
        },
        "outputId": "66426afe-7a5a-4c58-a33f-32c9d4f9fa5d"
      },
      "source": [
        "M = np.array([np.arange(73,76),np.arange(32,35), np.arange(57,60)])\n",
        "print(\"Matrix:\\n\",M)\n",
        " \n",
        "# Diagonal Matrix\n",
        "diagonal_values = np.array([73, 33, 59])\n",
        "DM = np.diag(diagonal_values)\n",
        "print(\"\\n\\nDiagonal Matrix:\\n\",DM)\n",
        "\n",
        "\n",
        "# Using k=1 for getting the diagonal matrix with the values above the diagonal elements\n",
        "ADV = np.array([74, 34])\n",
        "ADM = np.diag(ADV, k=1)\n",
        "print(\"\\n\\nAbove Diagonal Matrix:\\n\",ADM)\n",
        "\n",
        "# Using k=-1 for getting the diagonal matrix with the values below the diagonal elements\n",
        "BDV = np.array([32, 58])\n",
        "BDM = np.diag(BDV, k=-1)\n",
        "print(\"\\n\\nBelow Diagonal Matrix:\\n\",BDM)\n"
      ],
      "execution_count": 15,
      "outputs": [
        {
          "output_type": "stream",
          "name": "stdout",
          "text": [
            "Matrix:\n",
            " [[73 74 75]\n",
            " [32 33 34]\n",
            " [57 58 59]]\n",
            "\n",
            "\n",
            "Diagonal Matrix:\n",
            " [[73  0  0]\n",
            " [ 0 33  0]\n",
            " [ 0  0 59]]\n",
            "\n",
            "\n",
            "Above Diagonal Matrix:\n",
            " [[ 0 74  0]\n",
            " [ 0  0 34]\n",
            " [ 0  0  0]]\n",
            "\n",
            "\n",
            "Below Diagonal Matrix:\n",
            " [[ 0  0  0]\n",
            " [32  0  0]\n",
            " [ 0 58  0]]\n"
          ]
        }
      ]
    },
    {
      "cell_type": "markdown",
      "metadata": {
        "id": "36KBw9B2kMIy"
      },
      "source": [
        "Here all the non-diagonal elements are zero."
      ]
    },
    {
      "cell_type": "markdown",
      "metadata": {
        "id": "3LTA6mU2o8n3"
      },
      "source": [
        "**Identity Matrix**: A matrix of size nxn where all diagonal values are 1 and other values are 0 is an identity matrix."
      ]
    },
    {
      "cell_type": "markdown",
      "metadata": {
        "id": "FxI-Dib_0I2J"
      },
      "source": [
        "4. Create a 4x4 identity matrix with integer numbers."
      ]
    },
    {
      "cell_type": "code",
      "metadata": {
        "id": "bT5tpNQ90iid",
        "colab": {
          "base_uri": "https://localhost:8080/"
        },
        "outputId": "b04d763c-fb0c-45b8-d915-62d73118cf1b"
      },
      "source": [
        "IM = np.eye(4, dtype=int)\n",
        "\n",
        "print(\"4x4 Identity Matrix:\\n\", IM)"
      ],
      "execution_count": 18,
      "outputs": [
        {
          "output_type": "stream",
          "name": "stdout",
          "text": [
            "4x4 Identity Matrix:\n",
            " [[1 0 0 0]\n",
            " [0 1 0 0]\n",
            " [0 0 1 0]\n",
            " [0 0 0 1]]\n"
          ]
        }
      ]
    },
    {
      "cell_type": "markdown",
      "metadata": {
        "id": "fmS8azZypCPG"
      },
      "source": [
        "**Null Matrix**: A null matrix has all the values as zero."
      ]
    },
    {
      "cell_type": "markdown",
      "metadata": {
        "id": "W-MJrBp-0jNz"
      },
      "source": [
        "5. Create a null matrix of integers with shape 6x6."
      ]
    },
    {
      "cell_type": "code",
      "metadata": {
        "id": "j6g_s0oZ0pEC",
        "colab": {
          "base_uri": "https://localhost:8080/"
        },
        "outputId": "e7f99811-739a-42f2-de6f-96640153b577"
      },
      "source": [
        "NM = np.zeros((6,6), dtype=int)\n",
        "print(\"6x6 Null Matrix:\\n\", NM)"
      ],
      "execution_count": 17,
      "outputs": [
        {
          "output_type": "stream",
          "name": "stdout",
          "text": [
            "6x6 Null Matrix:\n",
            " [[0 0 0 0 0 0]\n",
            " [0 0 0 0 0 0]\n",
            " [0 0 0 0 0 0]\n",
            " [0 0 0 0 0 0]\n",
            " [0 0 0 0 0 0]\n",
            " [0 0 0 0 0 0]]\n"
          ]
        }
      ]
    },
    {
      "cell_type": "markdown",
      "metadata": {
        "id": "QL-qwsUtkVfD"
      },
      "source": [
        "### Matrix Transpose, Inverse, and Determinant"
      ]
    },
    {
      "cell_type": "markdown",
      "metadata": {
        "id": "M_T07E3ekn_z"
      },
      "source": [
        "**Transpose**: Transpose operation flips the matrix over its diagonal i.e. replacing rows with coloums and vice-versa."
      ]
    },
    {
      "cell_type": "markdown",
      "metadata": {
        "id": "JJoBZY8v5ULw"
      },
      "source": [
        "1. Create a matrix and find its transpose."
      ]
    },
    {
      "cell_type": "code",
      "metadata": {
        "id": "5y5LK4015pqz",
        "colab": {
          "base_uri": "https://localhost:8080/"
        },
        "outputId": "ee71eece-0929-470e-e878-0d360b5b0067"
      },
      "source": [
        "# Creating a matrix\n",
        "OrigMatrix = np.random.randint(low=1, high=101, size=(3, 3))\n",
        "print(\"Original Martrix:\\n\", OrigMatrix)\n",
        "\n",
        "# Matrix transpose\n",
        "TransposedMatrix = np.transpose(OrigMatrix)\n",
        "print(\"\\n\\nTransposed Martrix:\\n\", TransposedMatrix)\n"
      ],
      "execution_count": 19,
      "outputs": [
        {
          "output_type": "stream",
          "name": "stdout",
          "text": [
            "Original Martrix:\n",
            " [[86 48 83]\n",
            " [10 52 38]\n",
            " [21 82 52]]\n",
            "\n",
            "\n",
            "Transposed Martrix:\n",
            " [[86 10 21]\n",
            " [48 52 82]\n",
            " [83 38 52]]\n"
          ]
        }
      ]
    },
    {
      "cell_type": "markdown",
      "metadata": {
        "id": "mgVF0bewkuJs"
      },
      "source": [
        "**Inverse**: This operation helps to create a matrix such that when it is multiplied by the original matrix, the result is an identity matrix."
      ]
    },
    {
      "cell_type": "markdown",
      "metadata": {
        "id": "PbBw517f5qlo"
      },
      "source": [
        "2. Find the inverse of a matrix."
      ]
    },
    {
      "cell_type": "code",
      "metadata": {
        "id": "-uDy3dor5thR",
        "colab": {
          "base_uri": "https://localhost:8080/"
        },
        "outputId": "7c4eae23-e36b-4f90-dbc5-62e49c5de244"
      },
      "source": [
        "# Create a matrix\n",
        "OrigMatrix = np.random.randint(low=1, high=101, size=(3, 3))\n",
        "print(\"Original Martrix:\\n\", OrigMatrix)\n",
        "\n",
        "# Finding the inverse\n",
        "IM = np.linalg.inv(OrigMatrix)\n",
        "print(\"\\n\\nInverse Martrix:\\n\", IM)\n",
        "\n",
        "print(\"\\n\\n Multiplicatin of original with Inverse:\\n\", np.matmul(OrigMatrix, IM))\n"
      ],
      "execution_count": 27,
      "outputs": [
        {
          "output_type": "stream",
          "name": "stdout",
          "text": [
            "Original Martrix:\n",
            " [[95  5 42]\n",
            " [56 75 86]\n",
            " [76 77 29]]\n",
            "\n",
            "\n",
            "Inverse Martrix:\n",
            " [[ 0.0097479  -0.00677114  0.00596228]\n",
            " [-0.01076718  0.00095791  0.01275315]\n",
            " [ 0.00304252  0.01520163 -0.01500435]]\n",
            "\n",
            "\n",
            " Multiplicatin of original with Inverse:\n",
            " [[ 1.00000000e+00  3.12250226e-17 -5.55111512e-17]\n",
            " [-5.03069808e-17  1.00000000e+00  5.55111512e-17]\n",
            " [-5.11743425e-17 -2.60208521e-17  1.00000000e+00]]\n"
          ]
        }
      ]
    },
    {
      "cell_type": "markdown",
      "metadata": {
        "id": "J7spkFtt6Rkf"
      },
      "source": [
        "3. Create 3x3 matrix and find the inverse of it."
      ]
    },
    {
      "cell_type": "code",
      "metadata": {
        "id": "D_xu1d126Vfv",
        "colab": {
          "base_uri": "https://localhost:8080/"
        },
        "outputId": "94821729-d23b-4758-bce7-bd9d99d15e38"
      },
      "source": [
        "# Create a matrix\n",
        "OrigMatrix = np.random.randint(low=1, high=101, size=(3, 3))\n",
        "print(\"Original Martrix:\\n\", OrigMatrix)\n",
        "\n",
        "# Finding Inverse \n",
        "IM = np.linalg.inv(OrigMatrix)\n",
        "print(\"\\n\\nInverse Martrix:\\n\", IM)"
      ],
      "execution_count": 28,
      "outputs": [
        {
          "output_type": "stream",
          "name": "stdout",
          "text": [
            "Original Martrix:\n",
            " [[97 84  7]\n",
            " [77 48 66]\n",
            " [65 39 16]]\n",
            "\n",
            "\n",
            "Inverse Martrix:\n",
            " [[-0.02233186 -0.01324331  0.06439886]\n",
            " [ 0.03781331  0.01356481 -0.07249818]\n",
            " [-0.00144675  0.02073673 -0.02240605]]\n"
          ]
        }
      ]
    },
    {
      "cell_type": "markdown",
      "metadata": {
        "id": "hE-zpsmDk2Rw"
      },
      "source": [
        "**Determinant**: Determinant of a matrix is a scalar value that helps to characterize the properties of a matrix."
      ]
    },
    {
      "cell_type": "markdown",
      "metadata": {
        "id": "HYnIM35teYko"
      },
      "source": [
        "4. Create a matrix of size 3x3 and find the determinant of it.\n",
        "\n",
        "  To know more about Python libraries, click [here](https://numpy.org/doc/stable/reference/generated/numpy.linalg.det.html)\n",
        "\n",
        "\n"
      ]
    },
    {
      "cell_type": "code",
      "metadata": {
        "id": "O-diJjsHrFqt",
        "colab": {
          "base_uri": "https://localhost:8080/"
        },
        "outputId": "d41785f9-5513-40e8-a715-53ec55e57faa"
      },
      "source": [
        "OrigMatrix = np.random.randint(low=1, high=101, size=(3, 3))\n",
        "print(\"Original Martrix:\\n\", OrigMatrix)\n",
        "\n",
        "determinant = np.linalg.det(matrix)\n",
        "print(\"\\n\\nDeterminant = \", determinant)"
      ],
      "execution_count": 29,
      "outputs": [
        {
          "output_type": "stream",
          "name": "stdout",
          "text": [
            "Original Martrix:\n",
            " [[55 62 70]\n",
            " [86 16 46]\n",
            " [82 32 59]]\n",
            "\n",
            "\n",
            "Determinant =  -0.032212676734701344\n"
          ]
        }
      ]
    },
    {
      "cell_type": "markdown",
      "metadata": {
        "id": "CmqUEMMRgEpv"
      },
      "source": [
        "5. Create a 4x4 matrix and slice the rows and columns to get the middle sub-matrix and find its determinant."
      ]
    },
    {
      "cell_type": "code",
      "metadata": {
        "id": "MRHkKn25gVcj",
        "colab": {
          "base_uri": "https://localhost:8080/"
        },
        "outputId": "0278f6dc-eeef-4d08-cfab-843d4b9dd7c6"
      },
      "source": [
        "# Create 4x4 matrix\n",
        "OrigMatrix = np.random.randint(low=1, high=101, size=(4, 4))\n",
        "print(\"Original Martrix:\\n\", OrigMatrix)\n",
        "\n",
        "\n",
        "# Slicing of rows and columns\n",
        "sub_matrix = OrigMatrix[1:3, 1:3]\n",
        "print(\"\\n\\nMiddle Sub-Matrix:\\n\", sub_matrix)\n",
        "\n",
        "# Finding the determinant\n",
        "determinant = np.linalg.det(sub_matrix)\n",
        "print(\"\\n\\nDeterminant = \", determinant)"
      ],
      "execution_count": 32,
      "outputs": [
        {
          "output_type": "stream",
          "name": "stdout",
          "text": [
            "Original Martrix:\n",
            " [[ 4 94 62 97]\n",
            " [15 61 12 29]\n",
            " [72 49 13 85]\n",
            " [10 37 44 28]]\n",
            "\n",
            "\n",
            "Middle Sub-Matrix:\n",
            " [[61 12]\n",
            " [49 13]]\n",
            "\n",
            "\n",
            "Determinant =  205.00000000000006\n"
          ]
        }
      ]
    },
    {
      "cell_type": "markdown",
      "metadata": {
        "id": "D09L-6_82V15"
      },
      "source": [
        "\n",
        "### Matrix Operations and Functions\n"
      ]
    },
    {
      "cell_type": "markdown",
      "metadata": {
        "id": "KV4nOjKlm5p0"
      },
      "source": [
        "### Addition "
      ]
    },
    {
      "cell_type": "markdown",
      "metadata": {
        "id": "TOzXXy7B2cGb"
      },
      "source": [
        "1. Create matrix and add a scalar to it.\n",
        "\n",
        "\n",
        "\n"
      ]
    },
    {
      "cell_type": "code",
      "metadata": {
        "id": "CXbsz1aH4m-J",
        "colab": {
          "base_uri": "https://localhost:8080/"
        },
        "outputId": "f76b43dd-52fe-4a70-ea21-5f93feb83299"
      },
      "source": [
        "# Create a matrix\n",
        "OrigMatrix = np.random.randint(low=1, high=101, size=(3, 3))\n",
        "print(\"Original Martrix:\\n\", OrigMatrix)\n",
        "\n",
        "Scalar = np.random.randint(low=1, high=101)\n",
        "print(\"\\n\\nScalar = : \", Scalar)\n",
        "\n",
        "# Scalar Addition\n",
        "Add_Matrix = OrigMatrix + Scalar\n",
        "print(\"\\n\\nNew Matrix:\\n \", Add_Matrix)\n"
      ],
      "execution_count": 35,
      "outputs": [
        {
          "output_type": "stream",
          "name": "stdout",
          "text": [
            "Original Martrix:\n",
            " [[ 9 38 70]\n",
            " [68 60 64]\n",
            " [67 99 58]]\n",
            "\n",
            "\n",
            "Scalar = :  34\n",
            "\n",
            "\n",
            "New Matrix:\n",
            "  [[ 43  72 104]\n",
            " [102  94  98]\n",
            " [101 133  92]]\n"
          ]
        }
      ]
    },
    {
      "cell_type": "markdown",
      "metadata": {
        "id": "lFrLG5IxhGb7"
      },
      "source": [
        "2. Create two matrices as matrix1 & matrix2. Then, perform addition operation on them.\n",
        "\n",
        "\n",
        "\n",
        "\n",
        "\n",
        "\n",
        "\n",
        "\n"
      ]
    },
    {
      "cell_type": "code",
      "metadata": {
        "id": "glU1W378hKnU",
        "colab": {
          "base_uri": "https://localhost:8080/"
        },
        "outputId": "23a8b776-3796-4a6d-9cb8-3c3a30471332"
      },
      "source": [
        "# Creating matrices\n",
        "OrigMatrix1 = np.random.randint(low=1, high=101, size=(3, 3))\n",
        "print(\"Original Martrix 1:\\n\", OrigMatrix1)\n",
        "\n",
        "OrigMatrix2 = np.random.randint(low=1, high=101, size=(3, 3))\n",
        "print(\"\\n\\nOriginal Martrix 2:\\n\", OrigMatrix2)\n",
        "\n",
        "\n",
        "# Matrix Addition\n",
        "SumMatrix = OrigMatrix1 + OrigMatrix2\n",
        "print(\"\\n\\nSum Martrix:\\n\", SumMatrix)\n"
      ],
      "execution_count": 37,
      "outputs": [
        {
          "output_type": "stream",
          "name": "stdout",
          "text": [
            "Original Martrix 1:\n",
            " [[69 71 18]\n",
            " [ 1 86 52]\n",
            " [54  3 61]]\n",
            "\n",
            "\n",
            "Original Martrix 2:\n",
            " [[ 5 37 49]\n",
            " [48  3 32]\n",
            " [ 8 64 73]]\n",
            "\n",
            "\n",
            "Sum Martrix:\n",
            " [[ 74 108  67]\n",
            " [ 49  89  84]\n",
            " [ 62  67 134]]\n"
          ]
        }
      ]
    },
    {
      "cell_type": "markdown",
      "metadata": {
        "id": "Aho-IiUvm2mu"
      },
      "source": [
        "### Subtraction"
      ]
    },
    {
      "cell_type": "markdown",
      "metadata": {
        "id": "8FaT3Jtn4ncF"
      },
      "source": [
        "3. Create a matrix of size 3x6 and subtract a scalar from it.\n",
        "\n"
      ]
    },
    {
      "cell_type": "code",
      "metadata": {
        "id": "MmCu2FKc4rMQ",
        "colab": {
          "base_uri": "https://localhost:8080/"
        },
        "outputId": "824dfc9e-a252-4b59-f85a-db633649c31e"
      },
      "source": [
        "# Creating matrices\n",
        "OrigMatrix = np.random.randint(low=1, high=101, size=(3, 6))\n",
        "print(\"Original Martrix:\\n\", OrigMatrix)\n",
        "\n",
        "Scalar = np.random.randint(low=1, high=101)\n",
        "print(\"\\n\\nScalar = : \", Scalar)\n",
        "\n",
        "# Scalar Substraction\n",
        "Sub_Matrix = OrigMatrix - Scalar\n",
        "print(\"\\n\\nNew Matrix:\\n \", Sub_Matrix)"
      ],
      "execution_count": 38,
      "outputs": [
        {
          "output_type": "stream",
          "name": "stdout",
          "text": [
            "Original Martrix:\n",
            " [[24 53 46 66 14 54]\n",
            " [75 30 53  5 37 54]\n",
            " [67 24 74 33 20 72]]\n",
            "\n",
            "\n",
            "Scalar = :  47\n",
            "\n",
            "\n",
            "New Matrix:\n",
            "  [[-23   6  -1  19 -33   7]\n",
            " [ 28 -17   6 -42 -10   7]\n",
            " [ 20 -23  27 -14 -27  25]]\n"
          ]
        }
      ]
    },
    {
      "cell_type": "markdown",
      "metadata": {
        "id": "kMJrSRVhpLg2"
      },
      "source": [
        "4. Create two matrices of size 2x3 and subtract second matrix from the first one."
      ]
    },
    {
      "cell_type": "code",
      "metadata": {
        "id": "2ndefVGDpOjC",
        "colab": {
          "base_uri": "https://localhost:8080/"
        },
        "outputId": "2e1b659f-9d63-4ff8-b3f2-e3e19843397f"
      },
      "source": [
        "# Creating matrices\n",
        "OrigMatrix1 = np.random.randint(low=1, high=101, size=(2, 3))\n",
        "print(\"Original Martrix 1:\\n\", OrigMatrix1)\n",
        "\n",
        "OrigMatrix2 = np.random.randint(low=1, high=101, size=(2, 3))\n",
        "print(\"\\n\\nOriginal Martrix 2:\\n\", OrigMatrix2)\n",
        "\n",
        "\n",
        "# Matrix Subtraction\n",
        "Sub_Matrix = OrigMatrix1 - OrigMatrix2\n",
        "print(\"\\n\\nSubrection Martrix:\\n\", Sub_Matrix)"
      ],
      "execution_count": 39,
      "outputs": [
        {
          "output_type": "stream",
          "name": "stdout",
          "text": [
            "Original Martrix 1:\n",
            " [[ 59  56  41]\n",
            " [ 87 100  68]]\n",
            "\n",
            "\n",
            "Original Martrix 2:\n",
            " [[29 74 54]\n",
            " [37 30 21]]\n",
            "\n",
            "\n",
            "Subrection Martrix:\n",
            " [[ 30 -18 -13]\n",
            " [ 50  70  47]]\n"
          ]
        }
      ]
    },
    {
      "cell_type": "markdown",
      "metadata": {
        "id": "38cMo8C7mxXN"
      },
      "source": [
        "### Division"
      ]
    },
    {
      "cell_type": "markdown",
      "metadata": {
        "id": "6kx-20ES4rt2"
      },
      "source": [
        "5. Create a 4x3 matrix and divide it by a scalar.\n",
        "\n",
        "\n",
        "\n",
        "\n"
      ]
    },
    {
      "cell_type": "code",
      "metadata": {
        "id": "xbyGCdGV4wqg",
        "colab": {
          "base_uri": "https://localhost:8080/"
        },
        "outputId": "8bb1f637-198a-472c-f7d3-9e21bdab1bbc"
      },
      "source": [
        "# Creating matrix\n",
        "OrigMatrix = np.random.randint(low=1, high=101, size=(4, 3))\n",
        "print(\"Original Martrix:\\n\", OrigMatrix)\n",
        "\n",
        "Scalar = np.random.randint(low=1, high=101)\n",
        "print(\"\\n\\nScalar = : \", Scalar)\n",
        "\n",
        "# Scalar Division\n",
        "Div_Matrix = OrigMatrix / Scalar\n",
        "print(\"\\n\\nNew Matrix:\\n \", Div_Matrix)"
      ],
      "execution_count": 40,
      "outputs": [
        {
          "output_type": "stream",
          "name": "stdout",
          "text": [
            "Original Martrix:\n",
            " [[60  7 66]\n",
            " [87 12 78]\n",
            " [50 82 91]\n",
            " [84 48 32]]\n",
            "\n",
            "\n",
            "Scalar = :  91\n",
            "\n",
            "\n",
            "New Matrix:\n",
            "  [[0.65934066 0.07692308 0.72527473]\n",
            " [0.95604396 0.13186813 0.85714286]\n",
            " [0.54945055 0.9010989  1.        ]\n",
            " [0.92307692 0.52747253 0.35164835]]\n"
          ]
        }
      ]
    },
    {
      "cell_type": "markdown",
      "metadata": {
        "id": "YQDSP45Mqr8g"
      },
      "source": [
        "6. Create two matrices and divide the first matrix by the second one."
      ]
    },
    {
      "cell_type": "code",
      "metadata": {
        "id": "DNS6LjQ1quh5",
        "colab": {
          "base_uri": "https://localhost:8080/"
        },
        "outputId": "f0bae4a3-341d-4519-d9aa-a64f4e32320a"
      },
      "source": [
        "# Creating matrices\n",
        "OrigMatrix1 = np.random.randint(low=1, high=101, size=(2, 2))\n",
        "print(\"Original Martrix 1:\\n\", OrigMatrix1)\n",
        "\n",
        "OrigMatrix2 = np.random.randint(low=1, high=101, size=(2, 2))\n",
        "print(\"\\n\\nOriginal Martrix 2:\\n\", OrigMatrix2)\n",
        "\n",
        "# Matrix Division\n",
        "Div_Matrix = np.divide(OrigMatrix1, OrigMatrix2)\n",
        "print(\"\\n\\nDivision Martrix:\\n\", Div_Matrix)\n",
        "\n"
      ],
      "execution_count": 41,
      "outputs": [
        {
          "output_type": "stream",
          "name": "stdout",
          "text": [
            "Original Martrix 1:\n",
            " [[62 44]\n",
            " [95 92]]\n",
            "\n",
            "\n",
            "Original Martrix 2:\n",
            " [[43 89]\n",
            " [45 20]]\n",
            "\n",
            "\n",
            "Division Martrix:\n",
            " [[1.44186047 0.49438202]\n",
            " [2.11111111 4.6       ]]\n"
          ]
        }
      ]
    },
    {
      "cell_type": "markdown",
      "metadata": {
        "id": "BUBxYsfN4zp3"
      },
      "source": [
        "### Multiplication"
      ]
    },
    {
      "cell_type": "markdown",
      "metadata": {
        "id": "cqTR0BZZrwJw"
      },
      "source": [
        "7. Create a matrix and mulitply it by a Scalar.\n",
        "\n",
        "\n"
      ]
    },
    {
      "cell_type": "code",
      "metadata": {
        "id": "W6a67QO-r2MS",
        "colab": {
          "base_uri": "https://localhost:8080/"
        },
        "outputId": "d0bf0d35-59f6-4412-bf31-1cd1c4834744"
      },
      "source": [
        "# Creating matrix\n",
        "OrigMatrix = np.random.randint(low=1, high=101, size=(4, 3))\n",
        "print(\"Original Martrix:\\n\", OrigMatrix)\n",
        "\n",
        "Scalar = np.random.randint(low=1, high=101)\n",
        "print(\"\\n\\nScalar = : \", Scalar)\n",
        "\n",
        "\n",
        "# Scalar Product\n",
        "Mult_Matrix = OrigMatrix * Scalar\n",
        "print(\"\\n\\nNew Matrix:\\n \", Mult_Matrix)"
      ],
      "execution_count": 42,
      "outputs": [
        {
          "output_type": "stream",
          "name": "stdout",
          "text": [
            "Original Martrix:\n",
            " [[25 97 51]\n",
            " [54 98 71]\n",
            " [50 55 29]\n",
            " [23 45 94]]\n",
            "\n",
            "\n",
            "Scalar = :  49\n",
            "\n",
            "\n",
            "New Matrix:\n",
            "  [[1225 4753 2499]\n",
            " [2646 4802 3479]\n",
            " [2450 2695 1421]\n",
            " [1127 2205 4606]]\n"
          ]
        }
      ]
    },
    {
      "cell_type": "markdown",
      "metadata": {
        "id": "OECLxNNplrrR"
      },
      "source": [
        "Multiplication of two matrices is shown in the below diagram:\n",
        "\n"
      ]
    },
    {
      "cell_type": "markdown",
      "metadata": {
        "id": "yHi5zP0ZE5pa"
      },
      "source": [
        "$A.B = \\begin{bmatrix}\n",
        "a & b\\\\\n",
        "c & d\\\\\n",
        "\\end{bmatrix} \\begin{bmatrix}\n",
        "e & f\\\\\n",
        "g & h\\\\\n",
        "\\end{bmatrix} = \\begin{bmatrix}\n",
        "ae+ bg & af+bh\\\\\n",
        "ce+dg & cf+dh\\\\\n",
        "\\end{bmatrix}$"
      ]
    },
    {
      "cell_type": "markdown",
      "metadata": {
        "id": "PbSjmcltr2sz"
      },
      "source": [
        "8. Create two matrices and multiply them.\n",
        "\n",
        "  Note: Here, the corresponding elements are not multiplied. The multiplication rules are different from addition, subtraction, and division. "
      ]
    },
    {
      "cell_type": "code",
      "metadata": {
        "id": "neTNogReZeW-",
        "colab": {
          "base_uri": "https://localhost:8080/"
        },
        "outputId": "3f13186b-901e-4fe1-8832-659fece3c4d6"
      },
      "source": [
        "# Creating matrices\n",
        "OrigMatrix1 = np.random.randint(low=1, high=10, size=(2, 2))\n",
        "print(\"Original Martrix 1:\\n\", OrigMatrix1)\n",
        "\n",
        "OrigMatrix2 = np.random.randint(low=1, high=10, size=(2, 2))\n",
        "print(\"\\n\\nOriginal Martrix 2:\\n\", OrigMatrix2)\n",
        "\n",
        "# Dot Product\n",
        "mult_mat = np.matmul(OrigMatrix1, OrigMatrix2)\n",
        "print(\"\\n\\nResult Martrix 2:\\n\", mult_mat)"
      ],
      "execution_count": 43,
      "outputs": [
        {
          "output_type": "stream",
          "name": "stdout",
          "text": [
            "Original Martrix 1:\n",
            " [[5 7]\n",
            " [9 2]]\n",
            "\n",
            "\n",
            "Original Martrix 2:\n",
            " [[6 6]\n",
            " [7 2]]\n",
            "\n",
            "\n",
            "Result Martrix 2:\n",
            " [[79 44]\n",
            " [68 58]]\n"
          ]
        }
      ]
    },
    {
      "cell_type": "markdown",
      "metadata": {
        "id": "EMzPFzf8KjDu"
      },
      "source": [
        "\n",
        "### Cross Product & Dot Product of Vector and Matrices"
      ]
    },
    {
      "cell_type": "markdown",
      "metadata": {
        "id": "GDbs-xfRjSDC"
      },
      "source": [
        "\n",
        "*   **Cross Product** : In three-dimensional space, the cross product is a binary operation between two vectors. It produces a perpendicular vector to both vectors.\n",
        "\n",
        "<center><img src=\"https://cdn.iisc.talentsprint.com/DLFA/Experiment_related_data/cross_product.png\" alt=\"Drawing\" height=\"300\" width=\"280\"/></center>\n",
        "\n",
        "*   **Dot Product** : The dot product is defined algebraically as the sum of the products of the corresponding entries of the two number sequences. Moreover, it is the product of the Euclidean magnitudes and the cosine of the angle between them.\n",
        "\n",
        "<br>\n",
        "<center>\n",
        "<img src=\"https://cdn.iisc.talentsprint.com/DLFA/Experiment_related_data/dot_product-01.png\" alt=\"Drawing\" height=\"300\" width=\"300\"/></center>\n"
      ]
    },
    {
      "cell_type": "markdown",
      "metadata": {
        "id": "za3FdZvNnOhQ"
      },
      "source": [
        "1. Create two matrices and perform cross product on them."
      ]
    },
    {
      "cell_type": "code",
      "metadata": {
        "id": "JVkXImIoGbTE",
        "colab": {
          "base_uri": "https://localhost:8080/"
        },
        "outputId": "c4327699-5d2c-480e-c37b-53046f13be7b"
      },
      "source": [
        "# Creating matrices\n",
        "v1 = np.array([1, 2, 3])\n",
        "v2 = np.array([4, 5, 6])\n",
        "\n",
        "# Cross Product\n",
        "cp = np.cross(v1, v2)\n",
        "print(\"Cross Product = \", cp)"
      ],
      "execution_count": 44,
      "outputs": [
        {
          "output_type": "stream",
          "name": "stdout",
          "text": [
            "Cross Product =  [-3  6 -3]\n"
          ]
        }
      ]
    },
    {
      "cell_type": "markdown",
      "metadata": {
        "id": "s4xF_3dfZ8dt"
      },
      "source": [
        "2. Apply dot product on the below given vectors:\n",
        "\n",
        "    i). x = sin 45 + 6i\n",
        "    \n",
        "    ii).   y = 42 + 7i\n",
        "\n"
      ]
    },
    {
      "cell_type": "code",
      "metadata": {
        "id": "yW0pBqSEbofX",
        "colab": {
          "base_uri": "https://localhost:8080/"
        },
        "outputId": "44891bbc-ac0a-431f-f6ef-48d39519aa07"
      },
      "source": [
        "# Taking two 1D arrays\n",
        "y = [42,7]\n",
        "x = [sin(np.pi/4),6]\n",
        "\n",
        "# Calculating dot product using dot() method\n",
        "dp = np.dot(x, y)\n",
        "print(\"Dot Product = \", dp)"
      ],
      "execution_count": 46,
      "outputs": [
        {
          "output_type": "stream",
          "name": "stdout",
          "text": [
            "Dot Product =  71.698484809835\n"
          ]
        }
      ]
    },
    {
      "cell_type": "markdown",
      "metadata": {
        "id": "6tlWT-YPnHye"
      },
      "source": [
        "3. Create two vectors and perform cross product operation on them.\n"
      ]
    },
    {
      "cell_type": "code",
      "metadata": {
        "id": "S0CAppkuKmX1",
        "colab": {
          "base_uri": "https://localhost:8080/"
        },
        "outputId": "6e29761f-4beb-416d-e4e3-74b045601f28"
      },
      "source": [
        "# Creating matrices\n",
        "v1 = np.array([1, 2, 3])\n",
        "v2 = np.array([4, 5, 6])\n",
        "\n",
        "# Cross Product\n",
        "cp = np.cross(v1, v2)\n",
        "print(\"Cross Product = \", cp)"
      ],
      "execution_count": 47,
      "outputs": [
        {
          "output_type": "stream",
          "name": "stdout",
          "text": [
            "Cross Product =  [-3  6 -3]\n"
          ]
        }
      ]
    },
    {
      "cell_type": "markdown",
      "metadata": {
        "id": "k2xogQ7flkR_"
      },
      "source": [
        "### System of Linear Equations"
      ]
    },
    {
      "cell_type": "markdown",
      "metadata": {
        "id": "kq3TzflvKRgg"
      },
      "source": [
        "1. Solve the following linear equation for x and y using matrix solution.\n",
        "\n",
        "  i). 7x + 3y = 34\n",
        "\n",
        "  ii). 8x + 9y = 50\n",
        "\n",
        "    Hint: Use the equation for AX = B to solve the equation where A & B are the matrices for values of LHS and RHS of the equation and X consist of x & y variables.\n",
        "    \n",
        "    To know more about Python libraries, [here ](https://numpy.org/doc/stable/reference/generated/numpy.linalg.inv.html)\n",
        " \n",
        "\n",
        "\n",
        "\n",
        "\n",
        "\n"
      ]
    },
    {
      "cell_type": "markdown",
      "metadata": {
        "id": "imNDo0Y31bat"
      },
      "source": [
        "Steps to solve:\n",
        "\n",
        "1. Write the equation in the form of $AX = B$\n",
        "2. Then, you can write it as -> $X = A^{-1}.B$ "
      ]
    },
    {
      "cell_type": "code",
      "metadata": {
        "id": "HqAHQniMK5PY",
        "colab": {
          "base_uri": "https://localhost:8080/"
        },
        "outputId": "01470bbf-8c6f-46ca-a88c-0c52270015b7"
      },
      "source": [
        "# Creating matrices\n",
        "A = [[7,3],[8,9]]\n",
        "B = [34,50]\n",
        "\n",
        "# Inverse of matrix A\n",
        "INV_A = np.linalg.inv(A)\n",
        "\n",
        "# Dot product of matrix A1 and B\n",
        "Result = np.matmul(INV_A, B)\n",
        "print(Result)\n",
        "\n",
        "print(\"\\n\\nx = \", Result[0])\n",
        "print(\"y = \", Result[1])"
      ],
      "execution_count": 52,
      "outputs": [
        {
          "output_type": "stream",
          "name": "stdout",
          "text": [
            "[4. 2.]\n",
            "\n",
            "\n",
            "x =  3.9999999999999996\n",
            "y =  2.0000000000000004\n"
          ]
        }
      ]
    },
    {
      "cell_type": "markdown",
      "metadata": {
        "id": "5YIW-fnBlqRP"
      },
      "source": [
        "2. Find the values of x and y from the system of linear equations given below and verify the solution:\n",
        "\n",
        "  i). 6x + 5y = 19\n",
        "\n",
        "  ii). 7x + 9y = 32\n",
        "\n",
        "\n",
        "\n",
        "\n",
        "\n"
      ]
    },
    {
      "cell_type": "markdown",
      "metadata": {
        "id": "XCwXk-I6jS8X"
      },
      "source": [
        "Steps to solve:\n",
        "\n",
        "1. Create two arrays. \n",
        "\n",
        "2. Solve for x and y.\n",
        "\n",
        "3. Compute the dot product of the matrix equation(array) and the solution\n",
        "\n",
        "4. Use allclose() method to check whether the matrices are element-wise equal or not."
      ]
    },
    {
      "cell_type": "code",
      "metadata": {
        "id": "uAGP_LhElo5t",
        "colab": {
          "base_uri": "https://localhost:8080/"
        },
        "outputId": "f85a24aa-b83c-4b0a-f5e1-6628b31e4e85"
      },
      "source": [
        "# Creating arrays\n",
        "A = np.array([[6, 5], [7, 9]])\n",
        "B = np.array([19, 32])\n",
        "\n",
        "# Solve a linear matrix equation\n",
        "X = np.linalg.solve(A, B)\n",
        "\n",
        "# Verify the solution\n",
        "np.allclose(np.dot(A,X), B)\n",
        "# Creating matrices"
      ],
      "execution_count": 54,
      "outputs": [
        {
          "output_type": "execute_result",
          "data": {
            "text/plain": [
              "True"
            ]
          },
          "metadata": {},
          "execution_count": 54
        }
      ]
    },
    {
      "cell_type": "markdown",
      "metadata": {
        "id": "mNtFMhYuqO3n"
      },
      "source": [
        "3. Below are pair of three linear equations. Find the values of x, y, & z.\n",
        "\n",
        "  i). 8x + 3y + 5z = 29\n",
        "\n",
        "  ii). 4x + 7y + 12z = 54\n",
        "\n",
        "  iii). 9x + 5y + 11z = 52\n",
        "\n",
        "\n",
        "\n",
        "\n",
        "\n"
      ]
    },
    {
      "cell_type": "code",
      "metadata": {
        "id": "hF_oDNegocwE",
        "colab": {
          "base_uri": "https://localhost:8080/"
        },
        "outputId": "298fc9bf-7d78-455d-87a1-39318d1ffa1d"
      },
      "source": [
        "# Creating matrices\n",
        "A = [[8,3,5], [4,7,12], [9,5,11]]\n",
        "B = [29,54,52]\n",
        "\n",
        "# Inverse of matrix A\n",
        "INV_A = np.linalg.inv(A)\n",
        "\n",
        "# Dot product of A1 and B\n",
        "X = np.dot(INV_A, B)\n",
        "print(\"Result Matrix:\", X)\n",
        "\n",
        "#Verifying Result\n",
        "np.allclose(np.dot(A,X), B)\n"
      ],
      "execution_count": 58,
      "outputs": [
        {
          "output_type": "stream",
          "name": "stdout",
          "text": [
            "Result Matrix: [1. 2. 3.]\n"
          ]
        },
        {
          "output_type": "execute_result",
          "data": {
            "text/plain": [
              "True"
            ]
          },
          "metadata": {},
          "execution_count": 58
        }
      ]
    },
    {
      "cell_type": "markdown",
      "metadata": {
        "id": "5ui2dyQfQ33u"
      },
      "source": [
        "4. Suppose an automobile company sells 25 bikes and 32 scooties in January. In the next month the sale goes up to 30 bikes and 41 scooties. The total revenue generated is Rs. 506,000 and Rs.620,000 for the respective months. \n",
        "Find the cost of bike and scooty using matrix solution.\n",
        "\n",
        "  Hint: Form the pair of linear equations using the below problem statement and solve the equations to get the answer.\n",
        "\n",
        "    Assume the cost of bike and scooty as x and y. Moreover, we can create the equation:\n",
        "\n",
        "       i)   25x + 32y = 506000\n",
        "\n",
        "       ii)  30x + 41y = 628000\n",
        "\n"
      ]
    },
    {
      "cell_type": "code",
      "metadata": {
        "id": "S5tugRJHTF4w",
        "colab": {
          "base_uri": "https://localhost:8080/"
        },
        "outputId": "b3367529-ba59-47b8-c52e-7367c415e5df"
      },
      "source": [
        "# Create matrices using the values from the equation\n",
        "A = [[25, 32], [30, 41]]\n",
        "B = [506000, 628000]\n",
        "\n",
        "# Inverse of matrix A \n",
        "INV_A = np.linalg.inv(A)\n",
        "\n",
        "# Dot product of A1 and B\n",
        "X = np.dot(INV_A, B)\n",
        "print(\"Result Matrix:\", X)\n",
        "\n",
        "#Verifying Result\n",
        "np.allclose(np.dot(A,X), B)\n",
        "\n",
        "print(\"\\nCost of Bike = \", round(X[0]))\n",
        "print(\"Cost of Scooty = \", round(X[1]))"
      ],
      "execution_count": 60,
      "outputs": [
        {
          "output_type": "stream",
          "name": "stdout",
          "text": [
            "Result Matrix: [10000.  8000.]\n",
            "\n",
            "Cost of Bike =  10000\n",
            "Cost of Scooty =  8000\n"
          ]
        }
      ]
    },
    {
      "cell_type": "markdown",
      "metadata": {
        "id": "JM6EeJ-EhM68"
      },
      "source": [
        "### Checking the Linear Dependence and Independence \n",
        "\n",
        "We use linear dependence and independence to check the relation of the variables in the real-world dataset."
      ]
    },
    {
      "cell_type": "markdown",
      "metadata": {
        "id": "KFe9f84vhlqj"
      },
      "source": [
        "1. Check linear dependence for the following equations.\n",
        "\n",
        "  i). 6x + 3y + 5z = 19 \n",
        "\n",
        "  ii). 2x + y + 7z = 17  \n",
        "\n",
        "  iii). 16x + 8y + 40z = 104  \n",
        "\n",
        "  Hint : If the determinant is 0 then it is linearly dependent.\n",
        "\n",
        "\n",
        "\n"
      ]
    },
    {
      "cell_type": "code",
      "metadata": {
        "id": "95qHUZSghmMd"
      },
      "source": [
        "# Creating arrays\n",
        "# YOUR CODE HERE\n",
        "\n",
        "\n",
        "# Finding determinant\n",
        "# YOUR CODE HERE\n",
        "\n",
        "# Applying condition\n",
        "# YOUR CODE HERE"
      ],
      "execution_count": null,
      "outputs": []
    },
    {
      "cell_type": "markdown",
      "metadata": {
        "id": "gEYYXTH7qMrK"
      },
      "source": [
        "2. Find whether the below linear equations are linearly dependent or independent.\n",
        "\n",
        "  i). 4x + 2y = 6\n",
        "\n",
        "  ii). y = -x-2\n"
      ]
    },
    {
      "cell_type": "code",
      "metadata": {
        "id": "jvlTd_2dxZOw"
      },
      "source": [
        "a = np.array([[4,2],[1,1]])\n",
        "print(a)\n",
        "\n",
        "# Finding determinant\n",
        "# YOUR CODE HERE\n",
        "\n",
        "# Applying the condition\n",
        "# YOUR CODE HERE"
      ],
      "execution_count": null,
      "outputs": []
    },
    {
      "cell_type": "markdown",
      "metadata": {
        "id": "VHfHdGCP_n6Y"
      },
      "source": [
        "### Please answer the questions below to complete the experiment:\n",
        "\n",
        "\n"
      ]
    },
    {
      "cell_type": "markdown",
      "source": [
        "Consider the statements given below and answer Q1.\n",
        "\n",
        "\n",
        "A. Every skew-symmetric matrix of odd order is non-singular\n",
        "\n",
        "B. If determinant of a square matrix is non-zero, then it is non singular\n",
        "\n",
        "C. Adjoint of symmetric matrix is symmetric\n",
        "\n",
        "D. Adjoint of a diagonal matrix is diagonal"
      ],
      "metadata": {
        "id": "Ibp8o1S_Gmp0"
      }
    },
    {
      "cell_type": "code",
      "metadata": {
        "cellView": "form",
        "id": "-INhmnH1RDq0"
      },
      "source": [
        "#@title Q.1. Which of the above statements is/are False?\n",
        "Answer1 = \"\" #@param [\"\",\"Only A\",\"Both A & B\",\"Only B\", \"Only C\", \"Both B & C\"]\n"
      ],
      "execution_count": null,
      "outputs": []
    },
    {
      "cell_type": "markdown",
      "source": [
        "Consider the matrix A and the values of a, b, and c given below for answering Q.2.\n",
        "\n",
        "$A = \\begin{bmatrix}\n",
        "0 & 2b & c   \\\\\n",
        "a & b & -c   \\\\\n",
        "a & -b & c   \\\\\n",
        "\\end{bmatrix}$\n",
        "\n",
        "<br>\n",
        "\n",
        "A). a = $\\pm \\frac{1}{\\sqrt{6}} $, b = $\\pm \\frac{1}{\\sqrt{2}}$ , c = $\\pm \\frac{1}{\\sqrt{2}} $\n",
        "\n",
        "\n",
        "<br>\n",
        "\n",
        "B). a = $\\pm \\frac{1}{\\sqrt{6}} $, b = $\\pm \\frac{1}{\\sqrt{3}}$ , c = $\\pm \\frac{1}{\\sqrt{2}} $\n",
        "\n",
        "\n",
        "<br>\n",
        "\n",
        "C). a = $\\pm \\frac{1}{\\sqrt{2}} $, b = $\\pm \\frac{1}{\\sqrt{6}}$ , c = $\\pm \\frac{1}{\\sqrt{3}} $\n",
        "\n",
        "<br>\n",
        "\n",
        "D). a = $\\pm \\frac{1}{\\sqrt{2}} $, b = $\\pm \\frac{1}{\\sqrt{2}}$ , c = $\\pm \\frac{1}{\\sqrt{2}} $"
      ],
      "metadata": {
        "id": "zUG3igTEJrLL"
      }
    },
    {
      "cell_type": "code",
      "metadata": {
        "id": "UX24XAeIJ6Nf",
        "cellView": "form"
      },
      "source": [
        "#@title Q.2. If 'A' is an orthogonal matrix, then, what will be the values of a, b, and c. \n",
        "Answer2 = \"\" #@param [\"\",\"Only A\",\"Only B\",\"Only C\",\"Only D\", \"None of the above\"]\n"
      ],
      "execution_count": null,
      "outputs": []
    },
    {
      "cell_type": "code",
      "metadata": {
        "id": "NMzKSbLIgFzQ"
      },
      "source": [
        "#@title How was the experiment? { run: \"auto\", form-width: \"500px\", display-mode: \"form\" }\n",
        "Complexity = \"\" #@param [\"\",\"Too Simple, I am wasting time\", \"Good, But Not Challenging for me\", \"Good and Challenging for me\", \"Was Tough, but I did it\", \"Too Difficult for me\"]\n"
      ],
      "execution_count": null,
      "outputs": []
    },
    {
      "cell_type": "code",
      "metadata": {
        "id": "DjcH1VWSFI2l"
      },
      "source": [
        "#@title If it was too easy, what more would you have liked to be added? If it was very difficult, what would you have liked to have been removed? { run: \"auto\", display-mode: \"form\" }\n",
        "Additional = \"\" #@param {type:\"string\"}\n"
      ],
      "execution_count": null,
      "outputs": []
    },
    {
      "cell_type": "code",
      "metadata": {
        "id": "4VBk_4VTAxCM"
      },
      "source": [
        "#@title Can you identify the concepts from the lecture which this experiment covered? { run: \"auto\", vertical-output: true, display-mode: \"form\" }\n",
        "Concepts = \"\" #@param [\"\",\"Yes\", \"No\"]\n"
      ],
      "execution_count": null,
      "outputs": []
    },
    {
      "cell_type": "code",
      "metadata": {
        "id": "XH91cL1JWH7m"
      },
      "source": [
        "#@title  Text and image description/explanation and code comments within the experiment: { run: \"auto\", vertical-output: true, display-mode: \"form\" }\n",
        "Comments = \"\" #@param [\"\",\"Very Useful\", \"Somewhat Useful\", \"Not Useful\", \"Didn't use\"]\n"
      ],
      "execution_count": null,
      "outputs": []
    },
    {
      "cell_type": "code",
      "metadata": {
        "id": "z8xLqj7VWIKW"
      },
      "source": [
        "#@title Mentor Support: { run: \"auto\", vertical-output: true, display-mode: \"form\" }\n",
        "Mentor_support = \"\" #@param [\"\",\"Very Useful\", \"Somewhat Useful\", \"Not Useful\", \"Didn't use\"]\n"
      ],
      "execution_count": null,
      "outputs": []
    },
    {
      "cell_type": "code",
      "metadata": {
        "id": "FzAZHt1zw-Y-",
        "cellView": "form"
      },
      "source": [
        "#@title Run this cell to submit your notebook for grading { vertical-output: true }\n",
        "try:\n",
        "  if submission_id:\n",
        "      return_id = submit_notebook()\n",
        "      if return_id : submission_id = return_id\n",
        "  else:\n",
        "      print(\"Please complete the setup first.\")\n",
        "except NameError:\n",
        "  print (\"Please complete the setup first.\")"
      ],
      "execution_count": null,
      "outputs": []
    }
  ]
}