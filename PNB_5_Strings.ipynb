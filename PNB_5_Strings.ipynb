{
  "nbformat": 4,
  "nbformat_minor": 0,
  "metadata": {
    "colab": {
      "provenance": [],
      "include_colab_link": true
    },
    "kernelspec": {
      "name": "python3",
      "display_name": "Python 3"
    },
    "language_info": {
      "name": "python"
    }
  },
  "cells": [
    {
      "cell_type": "markdown",
      "metadata": {
        "id": "view-in-github",
        "colab_type": "text"
      },
      "source": [
        "<a href=\"https://colab.research.google.com/github/o001705/IIScProjects/blob/main/PNB_5_Strings.ipynb\" target=\"_parent\"><img src=\"https://colab.research.google.com/assets/colab-badge.svg\" alt=\"Open In Colab\"/></a>"
      ]
    },
    {
      "cell_type": "markdown",
      "source": [
        "## Practice Notebook"
      ],
      "metadata": {
        "id": "12wF6gUYT_We"
      }
    },
    {
      "cell_type": "markdown",
      "source": [
        "## Strings\n",
        "\n",
        "A string is a series of characters. In Python, anything inside \"quotes\" is a string. You can either use 'single quotes' or \"double quotes\".\n",
        "\n",
        "For more info, refer [here](https://www.w3schools.com/python/python_strings.asp)."
      ],
      "metadata": {
        "id": "OJx1Dus7hHsx"
      }
    },
    {
      "cell_type": "markdown",
      "source": [
        "####Exercise 1:\n",
        "\n",
        "Declare the values of a string variable to be 'Tests, Quizzes, Individual Labs, Group Labs and Hackathons'.\n",
        "\n",
        "\n",
        "Print the string."
      ],
      "metadata": {
        "id": "dN-JN2GeYNzP"
      }
    },
    {
      "cell_type": "code",
      "source": [
        "# YOUR CODE HERE\n",
        "str = 'Tests, Quizzes, Individual Labs, Group Labs and Hackathons'\n",
        "print(str)"
      ],
      "metadata": {
        "id": "PvmSKSuCYAzn",
        "outputId": "f2f0b135-f08f-4408-c410-c5f5f4ec1c9a",
        "colab": {
          "base_uri": "https://localhost:8080/"
        }
      },
      "execution_count": 1,
      "outputs": [
        {
          "output_type": "stream",
          "name": "stdout",
          "text": [
            "Tests, Quizzes, Individual Labs, Group Labs and Hackathons\n"
          ]
        }
      ]
    },
    {
      "cell_type": "markdown",
      "source": [
        "####Exercise 2:\n",
        "\n",
        "Declare the values of a string variable to be \"I need Tables, Chairs, Cupboards\", in double qoutes. \n",
        "\n",
        "Print the string."
      ],
      "metadata": {
        "id": "_5P3baVHXixq"
      }
    },
    {
      "cell_type": "code",
      "execution_count": 2,
      "metadata": {
        "id": "TRkcTF71T1PO",
        "outputId": "50b0ce73-7af5-4394-872e-3623600be865",
        "colab": {
          "base_uri": "https://localhost:8080/"
        }
      },
      "outputs": [
        {
          "output_type": "stream",
          "name": "stdout",
          "text": [
            "I need Tables, Chairs, Cupboards\n"
          ]
        }
      ],
      "source": [
        "# YOUR CODE HERE\n",
        "str1 = \"I need Tables, Chairs, Cupboards\"\n",
        "print(str1)"
      ]
    },
    {
      "cell_type": "markdown",
      "source": [
        "####Exercise 3:\n",
        "\n",
        "Concatenate the two string variables declared in Exercise 1 and Exercise 2."
      ],
      "metadata": {
        "id": "-_F548p0cm-Y"
      }
    },
    {
      "cell_type": "code",
      "source": [
        "# YOUR CODE HERE\n",
        "str + str1"
      ],
      "metadata": {
        "id": "JEdJQUBkcUHe",
        "outputId": "8a3676de-40ea-457b-f325-90e72358b835",
        "colab": {
          "base_uri": "https://localhost:8080/",
          "height": 36
        }
      },
      "execution_count": 3,
      "outputs": [
        {
          "output_type": "execute_result",
          "data": {
            "text/plain": [
              "'Tests, Quizzes, Individual Labs, Group Labs and HackathonsI need Tables, Chairs, Cupboards'"
            ],
            "application/vnd.google.colaboratory.intrinsic+json": {
              "type": "string"
            }
          },
          "metadata": {},
          "execution_count": 3
        }
      ]
    },
    {
      "cell_type": "markdown",
      "source": [
        "####Exercise 4:\n",
        "\n",
        "Write a short note on any topic in python and print the note using single `print` statement."
      ],
      "metadata": {
        "id": "BsMn8suiZSMr"
      }
    },
    {
      "cell_type": "code",
      "source": [
        "# YOUR CODE HERE\n",
        "note = \"\"\"This is a note in Python.\n",
        "Python allows multi line strings in\n",
        "Triple quotes\"\"\"\n",
        "print(note)"
      ],
      "metadata": {
        "id": "ndGfCaAMZEyj",
        "outputId": "a95e0d69-56da-4264-924d-69f3d188189f",
        "colab": {
          "base_uri": "https://localhost:8080/"
        }
      },
      "execution_count": 6,
      "outputs": [
        {
          "output_type": "stream",
          "name": "stdout",
          "text": [
            "This is a note in Python.\n",
            "Python allows multi line strings in\n",
            "Triple quotes\n"
          ]
        }
      ]
    },
    {
      "cell_type": "markdown",
      "source": [
        "####Exercise 5:\n",
        "\n",
        "* Concatenate the output of the string in Exercise 3 and output of the string in Exercise 1.\n",
        "* Print the length of the concatenated string.\n"
      ],
      "metadata": {
        "id": "bpzOBwWjdUbO"
      }
    },
    {
      "cell_type": "code",
      "source": [
        "# YOUR CODE HERE\n",
        "print (len(str+str1+str))"
      ],
      "metadata": {
        "id": "ScREMvsJd4Ig",
        "outputId": "bd0b18fb-a700-45d8-b250-6dc7e1bf4f25",
        "colab": {
          "base_uri": "https://localhost:8080/"
        }
      },
      "execution_count": 8,
      "outputs": [
        {
          "output_type": "stream",
          "name": "stdout",
          "text": [
            "148\n"
          ]
        }
      ]
    },
    {
      "cell_type": "markdown",
      "source": [
        "#### Exercies 6:\n",
        "\n",
        "Perform simple string operations for A = \"Hello\", B = \"world!\":\n",
        " * Concatenate by +.\n",
        " * Multiple concatenation by *  (ex: 4 * A + \" \" * 3 + B * 2).\n",
        " * Check for substring with `in`.\n",
        " * Determine the size (number of characters) using `len`."
      ],
      "metadata": {
        "id": "zrvj2kICovvo"
      }
    },
    {
      "cell_type": "code",
      "source": [
        "# YOUR CODE HERE\n",
        "A = \"Hello\"\n",
        "B = \"world!\"\n",
        "print (A + B)\n",
        "print (4*A + 3*' ' + 2*B)\n",
        "print ('e' in A)\n",
        "print(len(B))\n"
      ],
      "metadata": {
        "id": "mUwqIlhnpBPe",
        "outputId": "75abcf1a-d51b-480d-f8ac-bfe1d5dfe87e",
        "colab": {
          "base_uri": "https://localhost:8080/"
        }
      },
      "execution_count": 9,
      "outputs": [
        {
          "output_type": "stream",
          "name": "stdout",
          "text": [
            "Helloworld!\n",
            "HelloHelloHelloHello   world!world!\n",
            "True\n",
            "6\n"
          ]
        }
      ]
    },
    {
      "cell_type": "markdown",
      "source": [
        "####Exercies 7:\n",
        "\n",
        "For the given variable name = 'hELLO, WORLD!', perform the following:\n",
        "* Print the character '!'. \n",
        "* Convert the string to lowercase.\n",
        "* Print the first character in upper case.\n",
        "* Print a string where all the upper case letters are lower case and vice versa.\n"
      ],
      "metadata": {
        "id": "t_RU_DjFqMF-"
      }
    },
    {
      "cell_type": "code",
      "source": [
        "name = 'hELLO, WORLD!'\n",
        "# YOUR CODE HERE\n",
        "print(name[-1])"
      ],
      "metadata": {
        "id": "JeDkZaQxpamY",
        "outputId": "8e9f73f9-3ed9-4355-8f3c-40e102807ede",
        "colab": {
          "base_uri": "https://localhost:8080/"
        }
      },
      "execution_count": 10,
      "outputs": [
        {
          "output_type": "stream",
          "name": "stdout",
          "text": [
            "!\n"
          ]
        }
      ]
    },
    {
      "cell_type": "code",
      "source": [
        "# The lower() method returns a string converted to lowercase.\n",
        "# YOUR CODE HERE\n",
        "print(name.lower())"
      ],
      "metadata": {
        "id": "B8n5iU_-snKH",
        "outputId": "cb991570-35f9-498c-89c3-429c4543af09",
        "colab": {
          "base_uri": "https://localhost:8080/"
        }
      },
      "execution_count": 11,
      "outputs": [
        {
          "output_type": "stream",
          "name": "stdout",
          "text": [
            "hello, world!\n"
          ]
        }
      ]
    },
    {
      "cell_type": "code",
      "source": [
        "# YOUR CODE HERE\n",
        "print(name[0].upper())"
      ],
      "metadata": {
        "id": "8d0wOfi3Zsd-",
        "outputId": "c6dac1f8-7c1c-45bd-c8c2-5d9e77421692",
        "colab": {
          "base_uri": "https://localhost:8080/"
        }
      },
      "execution_count": 12,
      "outputs": [
        {
          "output_type": "stream",
          "name": "stdout",
          "text": [
            "H\n"
          ]
        }
      ]
    },
    {
      "cell_type": "code",
      "source": [
        "# YOUR CODE HERE\n",
        "print(name.swapcase())"
      ],
      "metadata": {
        "id": "hYOmJNw4aOL9",
        "outputId": "f1ecfb40-1fc3-4fce-bf78-6dc082375771",
        "colab": {
          "base_uri": "https://localhost:8080/"
        }
      },
      "execution_count": 13,
      "outputs": [
        {
          "output_type": "stream",
          "name": "stdout",
          "text": [
            "Hello, world!\n"
          ]
        }
      ]
    },
    {
      "cell_type": "markdown",
      "source": [
        "#### Exercies 8:\n",
        "\n",
        "For a given string, perform the following:\n",
        "* Using `for` to iterate over a string in Python.\n",
        "* Print the number of times the letter/character ‘s’ appears in a string."
      ],
      "metadata": {
        "id": "3wNoT59o2HAi"
      }
    },
    {
      "cell_type": "code",
      "source": [
        "# YOUR CODE HERE\n",
        "str = \"Apples and Oranges are not same\"\n",
        "for c in str:\n",
        "  print(c, end=' ')"
      ],
      "metadata": {
        "id": "C52n7pwL0_dZ",
        "outputId": "acf84f44-ddf2-4c44-bb09-db690e2c3f52",
        "colab": {
          "base_uri": "https://localhost:8080/"
        }
      },
      "execution_count": 14,
      "outputs": [
        {
          "output_type": "stream",
          "name": "stdout",
          "text": [
            "A p p l e s   a n d   O r a n g e s   a r e   n o t   s a m e "
          ]
        }
      ]
    },
    {
      "cell_type": "code",
      "source": [
        "# YOUR CODE HERE\n",
        "counter = 0\n",
        "for c in str:\n",
        "  if (c == 's'):\n",
        "    counter += 1\n",
        "print(\"'s' appears\",counter,\"times in string\")"
      ],
      "metadata": {
        "id": "5zjqFGxI3Epa",
        "outputId": "2b267c5b-b025-41ab-ffec-de1f43070d15",
        "colab": {
          "base_uri": "https://localhost:8080/"
        }
      },
      "execution_count": 19,
      "outputs": [
        {
          "output_type": "stream",
          "name": "stdout",
          "text": [
            "'s' appears 3 times in string\n"
          ]
        }
      ]
    },
    {
      "cell_type": "markdown",
      "source": [
        "#### Exercies 9:\n",
        "\n",
        "For a given list, perform the following:\n",
        "\n",
        "* Print the list in reverse oder.\n",
        "\n",
        "* Print the following my_list[-1].\n",
        "\n",
        "* Print the following output  [2, 33, 222, 14] using slice method."
      ],
      "metadata": {
        "id": "LelhQmty6yac"
      }
    },
    {
      "cell_type": "code",
      "source": [
        "my_list = [2, 33, 222, 14, 25]\n",
        "# YOUR CODE HERE\n",
        "print(my_list[::-1])"
      ],
      "metadata": {
        "id": "62p4fL9g-5rH",
        "outputId": "70b75975-fef4-4bc6-838b-1a6afeff12ef",
        "colab": {
          "base_uri": "https://localhost:8080/"
        }
      },
      "execution_count": 20,
      "outputs": [
        {
          "output_type": "stream",
          "name": "stdout",
          "text": [
            "[25, 14, 222, 33, 2]\n"
          ]
        }
      ]
    },
    {
      "cell_type": "code",
      "source": [
        "my_list = [2, 33, 222, 14, 25]\n",
        "# YOUR CODE HERE\n",
        "print(my_list[-1])"
      ],
      "metadata": {
        "id": "2-tNVH8R4lIC",
        "outputId": "1418381d-7f0f-47a1-ffb0-f9b5a981e049",
        "colab": {
          "base_uri": "https://localhost:8080/"
        }
      },
      "execution_count": 21,
      "outputs": [
        {
          "output_type": "stream",
          "name": "stdout",
          "text": [
            "25\n"
          ]
        }
      ]
    },
    {
      "cell_type": "code",
      "source": [
        "my_list = [2, 33, 222, 14, 25]\n",
        "# YOUR CODE HERE\n",
        "x = slice(0, 4, 1)\n",
        "print (my_list[x])"
      ],
      "metadata": {
        "id": "HTkPuU97-x0C",
        "outputId": "b9b943e0-e0ae-4096-d62d-97c32e19cdfb",
        "colab": {
          "base_uri": "https://localhost:8080/"
        }
      },
      "execution_count": 24,
      "outputs": [
        {
          "output_type": "stream",
          "name": "stdout",
          "text": [
            "[2, 33, 222, 14]\n"
          ]
        }
      ]
    },
    {
      "cell_type": "markdown",
      "source": [
        "#### Exercies 10:\n",
        "\n",
        "For the given string, perform following methods:\n",
        "\n",
        "* Split the string by using 'word.split' and print the result.\n",
        "* Replace MachineLearning by Python using `.replace()`."
      ],
      "metadata": {
        "id": "iXRD9t9QaXRF"
      }
    },
    {
      "cell_type": "code",
      "source": [
        "# YOUR CODE HERE\n",
        "str = \"This is a Python code snippet\"\n",
        "print(str.split())"
      ],
      "metadata": {
        "id": "qWaaIZ5EVz-_",
        "outputId": "f0ba9656-d3fd-4d36-d953-646c3650a2d4",
        "colab": {
          "base_uri": "https://localhost:8080/"
        }
      },
      "execution_count": 25,
      "outputs": [
        {
          "output_type": "stream",
          "name": "stdout",
          "text": [
            "['This', 'is', 'a', 'Python', 'code', 'snippet']\n"
          ]
        }
      ]
    },
    {
      "cell_type": "code",
      "source": [
        "# YOUR CODE HERE\n",
        "print(str.replace('Python', 'MachineLearning'))"
      ],
      "metadata": {
        "id": "TIyyhrYrV15M",
        "outputId": "f02ed2bf-c40f-4ba8-e9fa-69fefb23ab3f",
        "colab": {
          "base_uri": "https://localhost:8080/"
        }
      },
      "execution_count": 26,
      "outputs": [
        {
          "output_type": "stream",
          "name": "stdout",
          "text": [
            "This is a MachineLearning code snippet\n"
          ]
        }
      ]
    }
  ]
}