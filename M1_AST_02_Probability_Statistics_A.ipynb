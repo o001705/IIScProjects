{
  "nbformat": 4,
  "nbformat_minor": 0,
  "metadata": {
    "colab": {
      "provenance": [],
      "include_colab_link": true
    },
    "kernelspec": {
      "name": "python3",
      "display_name": "Python 3"
    },
    "language_info": {
      "name": "python"
    }
  },
  "cells": [
    {
      "cell_type": "markdown",
      "metadata": {
        "id": "view-in-github",
        "colab_type": "text"
      },
      "source": [
        "<a href=\"https://colab.research.google.com/github/o001705/IIScProjects/blob/main/M1_AST_02_Probability_Statistics_A.ipynb\" target=\"_parent\"><img src=\"https://colab.research.google.com/assets/colab-badge.svg\" alt=\"Open In Colab\"/></a>"
      ]
    },
    {
      "cell_type": "markdown",
      "metadata": {
        "id": "wFOxPmBEhsb6"
      },
      "source": [
        "# Advanced Certification Program in Deep Learning\n",
        "## A program by IISc and TalentSprint\n",
        "### Assignment 2: Probability and Statistics"
      ]
    },
    {
      "cell_type": "markdown",
      "metadata": {
        "id": "2ISbytm-hzTy"
      },
      "source": [
        "## Learning Objectives"
      ]
    },
    {
      "cell_type": "markdown",
      "metadata": {
        "id": "l7H9pjT_h1ko"
      },
      "source": [
        "At the end of the experiment, you will be able to\n",
        "\n",
        "*   understand conditional probability and chain rule\n",
        "*   understand about independence and conditional independence\n",
        "*   understand Bayes Theorem\n"
      ]
    },
    {
      "cell_type": "markdown",
      "metadata": {
        "id": "7IfuqulRGTuV"
      },
      "source": [
        "## Information"
      ]
    },
    {
      "cell_type": "markdown",
      "metadata": {
        "id": "i2ruBeghGTuW"
      },
      "source": [
        "**Why we need conditional probability?**\n",
        "\n",
        "The conditional probability is an essential quantity in wide range of domains, including classification, decision theory, prediction, diagnostics, and other similar situations. That is because one typically makes the classification, decision, prediction, etc. based on some evidence. Thus, what one wants to know is the probability of the result given the evidence.\n",
        "\n",
        "**Terminology**\n",
        "\n",
        "The basic terms related to probability are as follows:\n",
        "\n",
        "- **Experiment:** an action where the result is uncertain even though all the possible outcomes related to it is known in advance. \n",
        "- **Random Experiment:** an experiment is said to be random if it has more than one possible outcome.\n",
        "- **Conditional probability:** a measure of the probability of an event occurring, given that another event has already occurred.\n",
        "- **Independent events:** two events are independent if the occurrence of one does not affect the probability of occurrence of the other.\n",
        "- **Conditional independence:** A and B are conditionally independent given C if and only if, given knowledge that C occurs, knowledge of whether A occurs provides no information on the likelihood of B occurring, and knowledge of whether B occurs provides no information on the likelihood of A occurring."
      ]
    },
    {
      "cell_type": "markdown",
      "metadata": {
        "id": "BNLA8HiKxQhc"
      },
      "source": [
        "### Setup Steps:"
      ]
    },
    {
      "cell_type": "code",
      "metadata": {
        "id": "2YzfoPvJDiTX"
      },
      "source": [
        "#@title Please enter your registration id to start: { run: \"auto\", display-mode: \"form\" }\n",
        "Id = \"2237536\" #@param {type:\"string\"}"
      ],
      "execution_count": null,
      "outputs": []
    },
    {
      "cell_type": "code",
      "metadata": {
        "id": "rEzlYL4CDrmE"
      },
      "source": [
        "#@title Please enter your password (normally your phone number) to continue: { run: \"auto\", display-mode: \"form\" }\n",
        "password = \"9892920569\" #@param {type:\"string\"}"
      ],
      "execution_count": null,
      "outputs": []
    },
    {
      "cell_type": "code",
      "metadata": {
        "cellView": "form",
        "id": "tEHO97C5afDD",
        "colab": {
          "base_uri": "https://localhost:8080/",
          "height": 35
        },
        "outputId": "09bd91f6-2332-4851-c8be-7d904b56e2b6"
      },
      "source": [
        "#@title Run this cell to complete the setup for this Notebook\n",
        "from IPython import get_ipython\n",
        "import warnings\n",
        "warnings.filterwarnings(\"ignore\")\n",
        "\n",
        "ipython = get_ipython()\n",
        "  \n",
        "notebook= \"M1_AST_02_Probability_Statistics_A\" #name of the notebook\n",
        "\n",
        "def setup():\n",
        "    from IPython.display import HTML, display\n",
        "    display(HTML('<script src=\"https://dashboard.talentsprint.com/aiml/record_ip.html?traineeId={0}&recordId={1}\"></script>'.format(getId(),submission_id)))\n",
        "    print(\"Setup completed successfully\")\n",
        "    return\n",
        "\n",
        "def submit_notebook():\n",
        "    ipython.magic(\"notebook -e \"+ notebook + \".ipynb\")\n",
        "    \n",
        "    import requests, json, base64, datetime\n",
        "\n",
        "    url = \"https://dashboard.talentsprint.com/xp/app/save_notebook_attempts\"\n",
        "    if not submission_id:\n",
        "      data = {\"id\" : getId(), \"notebook\" : notebook, \"mobile\" : getPassword()}\n",
        "      r = requests.post(url, data = data)\n",
        "      r = json.loads(r.text)\n",
        "\n",
        "      if r[\"status\"] == \"Success\":\n",
        "          return r[\"record_id\"]\n",
        "      elif \"err\" in r:        \n",
        "        print(r[\"err\"])\n",
        "        return None        \n",
        "      else:\n",
        "        print (\"Something is wrong, the notebook will not be submitted for grading\")\n",
        "        return None\n",
        "    \n",
        "    elif getAnswer1() and getAnswer2() and getComplexity() and getAdditional() and getConcepts() and getComments() and getMentorSupport():\n",
        "      f = open(notebook + \".ipynb\", \"rb\")\n",
        "      file_hash = base64.b64encode(f.read())\n",
        "\n",
        "      data = {\"complexity\" : Complexity, \"additional\" :Additional, \n",
        "              \"concepts\" : Concepts, \"record_id\" : submission_id, \n",
        "              \"answer1\" : Answer1, \"answer2\" : Answer2, \"id\" : Id, \"file_hash\" : file_hash,\n",
        "              \"notebook\" : notebook,\n",
        "              \"feedback_experiments_input\" : Comments,\n",
        "              \"feedback_mentor_support\": Mentor_support}\n",
        "      r = requests.post(url, data = data)\n",
        "      r = json.loads(r.text)\n",
        "      if \"err\" in r:        \n",
        "        print(r[\"err\"])\n",
        "        return None   \n",
        "      else:\n",
        "        print(\"Your submission is successful.\")\n",
        "        print(\"Ref Id:\", submission_id)\n",
        "        print(\"Date of submission: \", r[\"date\"])\n",
        "        print(\"Time of submission: \", r[\"time\"])\n",
        "        print(\"View your submissions: https://dlfa-iisc.talentsprint.com/notebook_submissions\")\n",
        "        #print(\"For any queries/discrepancies, please connect with mentors through the chat icon in LMS dashboard.\")\n",
        "        return submission_id\n",
        "    else: submission_id\n",
        "    \n",
        "\n",
        "def getAdditional():\n",
        "  try:\n",
        "    if not Additional: \n",
        "      raise NameError\n",
        "    else:\n",
        "      return Additional  \n",
        "  except NameError:\n",
        "    print (\"Please answer Additional Question\")\n",
        "    return None\n",
        "\n",
        "def getComplexity():\n",
        "  try:\n",
        "    if not Complexity:\n",
        "      raise NameError\n",
        "    else:\n",
        "      return Complexity\n",
        "  except NameError:\n",
        "    print (\"Please answer Complexity Question\")\n",
        "    return None\n",
        "  \n",
        "def getConcepts():\n",
        "  try:\n",
        "    if not Concepts:\n",
        "      raise NameError\n",
        "    else:\n",
        "      return Concepts\n",
        "  except NameError:\n",
        "    print (\"Please answer Concepts Question\")\n",
        "    return None\n",
        "  \n",
        "  \n",
        "# def getWalkthrough():\n",
        "#   try:\n",
        "#     if not Walkthrough:\n",
        "#       raise NameError\n",
        "#     else:\n",
        "#       return Walkthrough\n",
        "#   except NameError:\n",
        "#     print (\"Please answer Walkthrough Question\")\n",
        "#     return None\n",
        "  \n",
        "def getComments():\n",
        "  try:\n",
        "    if not Comments:\n",
        "      raise NameError\n",
        "    else:\n",
        "      return Comments\n",
        "  except NameError:\n",
        "    print (\"Please answer Comments Question\")\n",
        "    return None\n",
        "  \n",
        "\n",
        "def getMentorSupport():\n",
        "  try:\n",
        "    if not Mentor_support:\n",
        "      raise NameError\n",
        "    else:\n",
        "      return Mentor_support\n",
        "  except NameError:\n",
        "    print (\"Please answer Mentor support Question\")\n",
        "    return None\n",
        "\n",
        "def getAnswer1():\n",
        "  try:\n",
        "    if not Answer1:\n",
        "      raise NameError \n",
        "    else: \n",
        "      return Answer1\n",
        "  except NameError:\n",
        "    print (\"Please answer Question 1\")\n",
        "    return None\n",
        "\n",
        "def getAnswer2():\n",
        "  try:\n",
        "    if not Answer2:\n",
        "      raise NameError \n",
        "    else: \n",
        "      return Answer2\n",
        "  except NameError:\n",
        "    print (\"Please answer Question 2\")\n",
        "    return None\n",
        "  \n",
        "\n",
        "def getId():\n",
        "  try: \n",
        "    return Id if Id else None\n",
        "  except NameError:\n",
        "    return None\n",
        "\n",
        "def getPassword():\n",
        "  try:\n",
        "    return password if password else None\n",
        "  except NameError:\n",
        "    return None\n",
        "\n",
        "submission_id = None\n",
        "### Setup \n",
        "if getPassword() and getId():\n",
        "  submission_id = submit_notebook()\n",
        "  if submission_id:\n",
        "    setup() \n",
        "else:\n",
        "  print (\"Please complete Id and Password cells before running setup\")\n",
        "\n"
      ],
      "execution_count": null,
      "outputs": [
        {
          "output_type": "display_data",
          "data": {
            "text/plain": [
              "<IPython.core.display.HTML object>"
            ],
            "text/html": [
              "<script src=\"https://dashboard.talentsprint.com/aiml/record_ip.html?traineeId=2237536&recordId=123\"></script>"
            ]
          },
          "metadata": {}
        },
        {
          "output_type": "stream",
          "name": "stdout",
          "text": [
            "Setup completed successfully\n"
          ]
        }
      ]
    },
    {
      "cell_type": "markdown",
      "metadata": {
        "id": "IluFDCbC0VaS"
      },
      "source": [
        "### Importing required packages"
      ]
    },
    {
      "cell_type": "code",
      "metadata": {
        "id": "cCz1hgPai1Wz"
      },
      "source": [
        "import numpy as np\n",
        "import pandas as pd"
      ],
      "execution_count": null,
      "outputs": []
    },
    {
      "cell_type": "markdown",
      "metadata": {
        "id": "gYmaR2DMuv21"
      },
      "source": [
        "### Conditional Probability"
      ]
    },
    {
      "cell_type": "markdown",
      "metadata": {
        "id": "WZoU2G4seIZm"
      },
      "source": [
        "### Conditional Probability"
      ]
    },
    {
      "cell_type": "markdown",
      "metadata": {
        "id": "mB7lR-PBwdD3"
      },
      "source": [
        "The conditional probability of an event $A$ in relationship to an event $B$ is the probability that event $A$ occurs given that event $B$ has already occurred. The notation for conditional probability is $P(A|B)$ i.e. the probability of occurrence of event $A$, given that $B$ has already occurred.\n",
        "\n",
        "\n",
        "Furthermore, the conditional probability for events A given event B is calculated as follows:\n",
        "\n",
        "$P(A | B)$ = $\\frac{P(A \\cap B)}{P(B)}$ , where $P(B)\\neq0$\n",
        "\n",
        "where, $ P(A∩B) $ is probability of event $ A $ and $ B $ occurring together,\n",
        " \n",
        "$ P(B) $ is the probability of observing $ B $.\n",
        "\n",
        "\n",
        "**Special Cases of Conditional Probability**\n",
        "\n",
        "1. A and B are disjoint: Here $A \\cap B = \\Phi $, this denotes that A and B cannot occur at the same time.\n",
        "\n",
        "  $P(A|B) = \\frac{P(A \\cap B)} {P(B)}$\n",
        "\n",
        "  $P(A|B) = \\frac{P(B)} {P(B)} = 0$\n",
        "\n",
        "2. B is a subset of A: If B is a subset of A, then whenever B happens, definitely A must have happened too. Therefore, $A \\cap B = B$\n",
        "\n",
        "  $P(A|B) = \\frac{P(A \\cap B)} {P(B)}$\n",
        "\n",
        "  $P(A|B) = \\frac{P(B)} {P(B)} = 1$, since $A \\cap B = B$\n",
        "\n",
        "\n",
        "3. A is a subset of B: Here, $A \\cap B = A$\n",
        "\n",
        "  $P(A|B) = \\frac{P(A \\cap B)} {P(B)}$\n",
        "\n",
        "  $P(A|B) = \\frac{P(A)} {P(B)} = 1$, since $A \\cap B = B$\n"
      ]
    },
    {
      "cell_type": "markdown",
      "metadata": {
        "id": "NEl6kZFKbiOl"
      },
      "source": [
        "**Exercise 1:**  A fair die is rolled. Assume, A is an event that the outcome is an even number, i.e., A={2, 4, 6}. Next, let B be the event where the outcome is greater than or equal to 4, i.e., B={4, 5, 6}. Find the following:\n",
        "\n",
        "  a. Probability of A \n",
        "  \n",
        "  b. Probability of A given B"
      ]
    },
    {
      "cell_type": "markdown",
      "metadata": {
        "id": "VR6l7m3t9dxy"
      },
      "source": [
        "  Calculating probability of occurence of event A i.e.$P(A)$"
      ]
    },
    {
      "cell_type": "code",
      "metadata": {
        "id": "aYNC4chFuyb-",
        "colab": {
          "base_uri": "https://localhost:8080/"
        },
        "outputId": "70e7302c-1c70-4e54-db6a-4e9b43bcf75e"
      },
      "source": [
        "# Probability of getting an even number when a die is rolled\n",
        "# Total number of outcomes when a die is rolled\n",
        "S = 6\n",
        "# Number of even outcomes when a die is rolled\n",
        "A = 3\n",
        "# Probability of even outcome\n",
        "PA = A/S\n",
        "print(\"Probability of A = \", PA)\n",
        "# YOUR CODE HERE"
      ],
      "execution_count": null,
      "outputs": [
        {
          "output_type": "stream",
          "name": "stdout",
          "text": [
            "Probability of A =  0.5\n"
          ]
        }
      ]
    },
    {
      "cell_type": "markdown",
      "metadata": {
        "id": "8xZZRTON_Wxz"
      },
      "source": [
        "Calculating probability of event A given B i.e. $P(A|B)$\n",
        "\n",
        "To calculate conditional probability we can use the formula as $P(A | B)$ = $\\frac{\\left | A \\cap B \\right |}{\\left | B \\right |}$      \n",
        "\n",
        "Further, as event B has already occured, the outcome of B is {4,5,6}. Also, event A's outcome is {2,4,6}. Therefore, the outcome of the event A when B has already occured will be $A \\cap B$ which is {4,6}"
      ]
    },
    {
      "cell_type": "code",
      "metadata": {
        "id": "BfXeqKWY_XM6",
        "colab": {
          "base_uri": "https://localhost:8080/"
        },
        "outputId": "3a9dd3af-5969-454b-bcd1-e9bc2de71337"
      },
      "source": [
        "# Probability of event A given B \n",
        "# Roll of a die outcome is Even and greater than or equal to 4 = {4,6}\n",
        "AintB = 2\n",
        "B = 3\n",
        "PAgivenB = AintB/B\n",
        "print(\"Probability of A Giveb B = \", PAgivenB)\n",
        "# YOUR CODE HERE"
      ],
      "execution_count": null,
      "outputs": [
        {
          "output_type": "stream",
          "name": "stdout",
          "text": [
            "Probability of A Giveb B =  0.6666666666666666\n"
          ]
        }
      ]
    },
    {
      "cell_type": "markdown",
      "metadata": {
        "id": "JxD7za7aGTuY"
      },
      "source": [
        "**Exercise 2:**  A card is drawn randomly from a deck of 52 cards. Find the probability of getting a *king* given it is a *red* card."
      ]
    },
    {
      "cell_type": "markdown",
      "metadata": {
        "id": "zu38iepbGTuY"
      },
      "source": [
        "Let, $K$ – represent the event of getting a king card\n",
        "\n",
        "$R$ – represent the event of getting a red card\n",
        "\n",
        "Then the probability of getting a king given it is a red card can be shown as :\n",
        " \n",
        "$    P(K|R)= \\frac{P(K∩R)}{P(R)}  $\n",
        "\n",
        "where,\n",
        "\n",
        "$P(R)$ – represents probability of getting a red card\n",
        "\n",
        "$P(K∩R)$ – represents probability of getting a king and red card simultaneously "
      ]
    },
    {
      "cell_type": "code",
      "source": [
        "P_R = 26/52     # a deck contains half red and half black cards\n",
        "P_K_and_R = 2/52    #   a deck contains only two king cards which are red\n",
        "\n",
        "# YOUR CODE HERE\n",
        "P_K_given_R = P_K_and_R / P_R\n",
        "\n",
        "print('The probability of getting a king given it is a red card= ', round(P_K_given_R, 4))"
      ],
      "metadata": {
        "id": "_LO1F8-cKxpy",
        "colab": {
          "base_uri": "https://localhost:8080/"
        },
        "outputId": "583f5fd6-e554-4e5a-eb11-20d8252df126"
      },
      "execution_count": null,
      "outputs": [
        {
          "output_type": "stream",
          "name": "stdout",
          "text": [
            "The probability of getting a king given it is a red card=  0.0769\n"
          ]
        }
      ]
    },
    {
      "cell_type": "markdown",
      "metadata": {
        "id": "MuSckHwquyxe"
      },
      "source": [
        "### Chain Rule of Conditional Probabilities"
      ]
    },
    {
      "cell_type": "markdown",
      "metadata": {
        "id": "PqtW6DAnwd-C"
      },
      "source": [
        "By now, we know about conditional probability. Further, what if we are interested in knowing the probability of intersections like $A \\cap B$ or $A_{1} \\cap A_{2} \\cap A_{3} \\cap,....,A_{n}$. For this, let us take the formula of conditional probability to derive \"**chain rule of conditional probability**\".\n",
        "\n",
        "Rewriting Conditional Probability in the below format:\n",
        "\n",
        "  $P(A \\cap B)=P(A)P(B|A)=P(B)P(A|B)$.........................(1)\n",
        "\n",
        "  Above formula for three events will be:\n",
        "\n",
        "  $P(A \\cap B \\cap C)= P(A \\cap (B \\cap C))= P(A)P(B \\cap C |A)$\n",
        "\n",
        "  Now, as we know $P(B \\cap C) = P(B)P(C|B)$  (from equation 1)\n",
        "\n",
        "  Apply the condition A on both the sides, we get\n",
        "\n",
        "  $P(B \\cap C|A)=P(B|A)P(C|A,B)$...............................(2)\n",
        "\n",
        "  From equation 1 and 2, we get\n",
        "\n",
        "  $P(A \\cap B \\cap C)=P(A)P(B|A)P(C|A,B)$\n",
        "\n",
        "\n",
        "\n"
      ]
    },
    {
      "cell_type": "markdown",
      "metadata": {
        "id": "DhI8I1mgbiAh"
      },
      "source": [
        "\n",
        "  Finally, the general formula for n events will be\n",
        "\n",
        "  $P(A_{1} \\cap A_{2} \\cap....\\cap A_{n}) = P(A_{1})P(A_{2}|A_{1})P(A_{3}|A_{2}A_{1}).....P(A_{n}|A_{n-1}A_{n-2}....A_{1})$\n"
      ]
    },
    {
      "cell_type": "markdown",
      "metadata": {
        "id": "_ZvhMY-scVFN"
      },
      "source": [
        "**Exercise 3:** There is a tyre manufacturing factory that produces 250 units per month, 17 of which are defective. We pick 3 units out of 250 units at random. What is the probability that none of them are defective?\n",
        "\n",
        "**Explanation**: Here, we are picking up 3 units at random. This can be considered as 3 events $A_{1}$, $A_{2}$, and $A_{3}$ of picking up non-defective units. Thus, we have to find the $P(A_{1} \\cap A_{2} \\cap A_{3})$."
      ]
    },
    {
      "cell_type": "markdown",
      "metadata": {
        "id": "F5Hl20t4efyJ"
      },
      "source": [
        "Let us first find the probability of event $A_{1}$"
      ]
    },
    {
      "cell_type": "code",
      "metadata": {
        "id": "oDY_27Gvu4gi",
        "colab": {
          "base_uri": "https://localhost:8080/"
        },
        "outputId": "ffda3b78-2f2a-4494-e060-75656a4e64eb"
      },
      "source": [
        "# Declaring units of production, total number of non-defective units, and number of defective units\n",
        "total_units = 250\n",
        "defec_u = 17\n",
        "n_defec = total_units - defec_u \n",
        "# Probability of picking up the non-defective units for the first time (Event A1)  \n",
        "# YOUR CODE HERE\n",
        "P1 = n_defec/total_units\n",
        "print(P1)"
      ],
      "execution_count": null,
      "outputs": [
        {
          "output_type": "stream",
          "name": "stdout",
          "text": [
            "0.932\n"
          ]
        }
      ]
    },
    {
      "cell_type": "markdown",
      "metadata": {
        "id": "TcwlagAthg2Z"
      },
      "source": [
        "Now, the next item will be chosen from 232 not defective units and 17 defective units. This means we have to calculate $P(A_{2}|A_{1})$"
      ]
    },
    {
      "cell_type": "code",
      "metadata": {
        "id": "dJacbIOqifqG",
        "colab": {
          "base_uri": "https://localhost:8080/"
        },
        "outputId": "fa40f1a3-b198-440c-87e4-1f2165256587"
      },
      "source": [
        "# The non-defective units will be 1 less than the previous one as we have already picked up one unit\n",
        "n_defec_2 = n_defec - 1\n",
        "\n",
        "# Probability of picking up the non-defective units for the second time (Event A2)  \n",
        "# YOUR CODE HERE\n",
        "P2 = n_defec_2/(total_units-1)\n",
        "print(P2)"
      ],
      "execution_count": null,
      "outputs": [
        {
          "output_type": "stream",
          "name": "stdout",
          "text": [
            "0.9317269076305221\n"
          ]
        }
      ]
    },
    {
      "cell_type": "markdown",
      "metadata": {
        "id": "vaHGjXNUj-xL"
      },
      "source": [
        "Further, given that $A_{1}$ and $A_{2}$ has occured, we have to find the probability of chosing the 3rd unit.\n",
        "\n",
        "The third unit will be chosen from 231 not defective units and 17 defective units."
      ]
    },
    {
      "cell_type": "code",
      "metadata": {
        "id": "oYZMMlZFTl2a",
        "colab": {
          "base_uri": "https://localhost:8080/"
        },
        "outputId": "ebcf41be-7efc-430f-c4a6-af860d835e83"
      },
      "source": [
        "# Again, the non-defective units will be 1 less than the previous one (Event A2)\n",
        "n_defec_3 = n_defec_2 - 1\n",
        "P3 = n_defec_3/(total_units-2)\n",
        "print(P3)"
      ],
      "execution_count": null,
      "outputs": [
        {
          "output_type": "stream",
          "name": "stdout",
          "text": [
            "0.9314516129032258\n"
          ]
        }
      ]
    },
    {
      "cell_type": "markdown",
      "metadata": {
        "id": "Zmw4OLUYUoxW"
      },
      "source": [
        "The final probability will be calculated as per the below formula:\n",
        "\n",
        " $P(A_{1} \\cap A_{2} \\cap A_{3})$ = $P(A_{1})P(A_{2}|A_{1})P(A_{3}|A_{2},A_{1})$"
      ]
    },
    {
      "cell_type": "code",
      "metadata": {
        "id": "OZqjWbE5VaUG",
        "colab": {
          "base_uri": "https://localhost:8080/"
        },
        "outputId": "e941dcc7-4073-4e8e-8c86-9ec609b00edd"
      },
      "source": [
        "# Final probability as per the condition\n",
        "# YOUR CODE HERE\n",
        "P = P1*P2*P3\n",
        "print(\"Probability = \", P)"
      ],
      "execution_count": null,
      "outputs": [
        {
          "output_type": "stream",
          "name": "stdout",
          "text": [
            "Probability =  0.8088441507967353\n"
          ]
        }
      ]
    },
    {
      "cell_type": "markdown",
      "metadata": {
        "id": "VxhQB9k9u4-t"
      },
      "source": [
        "### Independence of Events"
      ]
    },
    {
      "cell_type": "markdown",
      "metadata": {
        "id": "lujS1t_qerPG"
      },
      "source": [
        "An independent event is one that has no effect on the possibility of another event occurring (or not occuring). Moreover, when two events are independent, one event does not influence the probability of another event.\n",
        "\n",
        "\n",
        "Two events A and B are independent if and only if $P(A \\cap B)=P(A)P(B)$."
      ]
    },
    {
      "cell_type": "markdown",
      "metadata": {
        "id": "qb-l2byhcZ1M"
      },
      "source": [
        "**Exercise 4:** Pick up a random number from the set {1, 2, 3,...,10}, and call it N. Assume that all outcomes are equally likely. \n",
        "\n",
        "Let us consider two events A and B. Event A is such that N is less than 5, and let B be the event such that N is an odd number. Check whether A and B independent or not?\n",
        "\n",
        "**Hint:** Event A = {1,2,3,4}, B = {1,3,5,7,9}, and $A \\cap B$ = {1,3} "
      ]
    },
    {
      "cell_type": "code",
      "metadata": {
        "id": "TUwHGW_2h1Z6"
      },
      "source": [
        "# Total number of events\n",
        "t_events = 10\n",
        "# Probability of event A{1,2,3,4} is |A|/t_events. Here, |A| is the number of events of A{1,2,3,4} i.e. 4\n",
        "A = 4\n",
        "p_A = A/t_events \n",
        "# Probability of event B{1,3,5,7,9} is |B|/t_events. Here, |B| is the number of events of B{1,3,5,7,9} i.e. 5\n",
        "B = 5\n",
        "p_B = B/t_events \n",
        "# Probability of event A intersection B. Here, A intersection B is {1,3} and |A intersection B| = 2. \n",
        "i_AB = 2\n",
        "p_AB = i_AB/t_events"
      ],
      "execution_count": null,
      "outputs": []
    },
    {
      "cell_type": "code",
      "metadata": {
        "id": "SHZ5aZ9CkqXq",
        "colab": {
          "base_uri": "https://localhost:8080/"
        },
        "outputId": "793510df-cad4-4531-9698-f83cfd9950db"
      },
      "source": [
        "# Checking the independence\n",
        "# YOUR CODE HERE\n",
        "if (p_AB == p_A * p_B):\n",
        "  print(\"Events A and B are independent\")\n",
        "else:\n",
        "    print(\"Events A and B are not independent\")\n"
      ],
      "execution_count": null,
      "outputs": [
        {
          "output_type": "stream",
          "name": "stdout",
          "text": [
            "Events A and B are independent\n"
          ]
        }
      ]
    },
    {
      "cell_type": "markdown",
      "metadata": {
        "id": "gFWRWCYeDwTD"
      },
      "source": [
        "### Conditional Independence"
      ]
    },
    {
      "cell_type": "markdown",
      "metadata": {
        "id": "6D5sdKnVEqX-"
      },
      "source": [
        "Previously, we saw that two events A and B are independent if:\n",
        "\n",
        "$P(A\\cap B) = P(A)P(B)$\n",
        "\n",
        "Further, this can be extended using conditional probability as follows:\n",
        "\n",
        "Two events A and B are conditionally independent given an event C with P(C)>0 if\n",
        "\n",
        "$P(A\\cap B|C)=P(A|C)P(B|C)$"
      ]
    },
    {
      "cell_type": "markdown",
      "metadata": {
        "id": "gIZOQjFvcfIn"
      },
      "source": [
        "**Exercise 5:** A die is rolled thrice and following events were recorded:\n",
        "\n",
        "  A = {1,2}\n",
        "\n",
        "  B = {2,4,6}\n",
        "\n",
        "  C = {1,4}\n",
        "\n",
        "  Find whether A and B are conditionally independent given C?\n",
        "\n",
        "  Hint: For condition independence, the following should be true:\n",
        "\n",
        "  $P(A \\cap B|C) = P(A|C)P(B|C)$\n"
      ]
    },
    {
      "cell_type": "code",
      "metadata": {
        "id": "cYRs6t1zvBOG"
      },
      "source": [
        "# Total outcomes of a die, event A, event B, and event C\n",
        "t_outcome = 6\n",
        "A_outcome = 2\n",
        "B_outcome = 3\n",
        "C_outcome = 2\n",
        "# |A intersection C| = {1} = 1\n",
        "A_in_C = 1\n",
        "# Probability of event A given C\n",
        "P_AC = A_in_C/C_outcome\n",
        "# |B intersection C| = {4} = 1\n",
        "B_in_C = 1\n",
        "# Probability of event B given C \n",
        "P_BC = B_in_C/C_outcome"
      ],
      "execution_count": null,
      "outputs": []
    },
    {
      "cell_type": "markdown",
      "metadata": {
        "id": "UO2elAS2LGQn"
      },
      "source": [
        "Now, let us calculate $P(A\\cap B|C)$. Before this, we will do some prior calculation as follows:\n",
        "\n",
        "Given, A = {1,2} and B = {2,4,6}, let us condsider an event E.\n",
        "\n",
        "$E = A\\cap B$ = {2} \n",
        "\n",
        "Further, we will calculate $P(A\\cap B|C)$ rewritten as $P(E|C)$ as follows:"
      ]
    },
    {
      "cell_type": "code",
      "metadata": {
        "id": "KWgxgt_qLFTT"
      },
      "source": [
        "# |E intersection C| = {2} intersection {1,4} = 0\n",
        "E_in_C =  0\n",
        "# Probability of E intersection C i.e. E given C is \n",
        "P_EC = E_in_C/C_outcome"
      ],
      "execution_count": null,
      "outputs": []
    },
    {
      "cell_type": "code",
      "metadata": {
        "id": "KrCEpqkXRZsA",
        "colab": {
          "base_uri": "https://localhost:8080/"
        },
        "outputId": "94d8fc29-1fd0-492f-f90d-31b4d367f3b7"
      },
      "source": [
        "# Checking the conditional independence\n",
        "# YOUR CODE HERE\n",
        "if (P_AC * P_BC == P_EC):\n",
        "  print(\"A and B are conditionally independent given C\")\n",
        "else:\n",
        "    print(\"A and B are NOT conditionally independent given C\")\n"
      ],
      "execution_count": null,
      "outputs": [
        {
          "output_type": "stream",
          "name": "stdout",
          "text": [
            "A and B are NOT conditionally independent given C\n"
          ]
        }
      ]
    },
    {
      "cell_type": "markdown",
      "metadata": {
        "id": "ycL6Vpz_vdxx"
      },
      "source": [
        "### Bayes Theorem"
      ]
    },
    {
      "cell_type": "markdown",
      "metadata": {
        "id": "IdYC5ueBwhJ3"
      },
      "source": [
        "By now, we already know about conditional probability and how to calculate it. Further, suppose that we know P(A|B), but we are interested in the probability P(B|A). We can calculate it using the below formula derived for Bayes Theorem:\n",
        "\n",
        "$P(B|A) = \\frac {P(A|B)P(B)}{P(A)}$ where $P(A)\\neq0$\n",
        "\n",
        "It can also be written as:\n",
        "\n",
        "$P(B_{j}|A) = \\frac {P(A|B_{j})P(B_{j})}{\\sum_{i} P(A|B_{i})P(B_{i})}$\n",
        "\n",
        "where $B_{1},B_{2},...,B_{n}$ form a partition of the sample space.\n",
        "\n"
      ]
    },
    {
      "cell_type": "markdown",
      "metadata": {
        "id": "xk12FPcMcmzk"
      },
      "source": [
        "**Exercise 6:** Suppose there are three bags where each bag contains 100 marbles:\n",
        "\n",
        "  a). Bag 1 has 75 red and 25 blue marbles\n",
        "\n",
        "  b). Bag 2 has 60 red and 40 blue marbles\n",
        "\n",
        "  c). Bag 3 has 45 red and 55 blue marbles\n",
        "\n",
        "  We choose one of the bags at random and then pick a random marble from the chosen bag. Further, we observe that the chosen marble is red. What is the probability that the bag chosen was Bag 1?\n",
        "\n"
      ]
    },
    {
      "cell_type": "code",
      "metadata": {
        "id": "Aa2LAbC2vkdG",
        "colab": {
          "base_uri": "https://localhost:8080/"
        },
        "outputId": "96dd0cd8-d20c-4eaf-de0b-64534ee76811"
      },
      "source": [
        "# Probability of picking up the marbles from Bag 1, Bag 2, and Bag 3\n",
        "P_B1 = 1/3\n",
        "P_B2 = 1/3\n",
        "P_B3 = 1/3\n",
        "# Probability of picking up the red marbles from Bag 1, Bag 2, and Bag 3\n",
        "PR_B1 = 0.75\n",
        "PR_B2 = 0.60\n",
        "PR_B3 = 0.45\n",
        "\n",
        "# Probability of the event where chosen marble is red\n",
        "PR = PR_B1*P_B1 + PR_B2*P_B2 + PR_B3*P_B3\n",
        "print(PR)"
      ],
      "execution_count": null,
      "outputs": [
        {
          "output_type": "stream",
          "name": "stdout",
          "text": [
            "0.6\n"
          ]
        }
      ]
    },
    {
      "cell_type": "markdown",
      "metadata": {
        "id": "hy2kJCyPxqlQ"
      },
      "source": [
        "Here, we know $P(R|B_{i})$, but, to calculate the probability that Bag 1 was chosen $P(B_{1}|R)$ we will follow the **Bayes rule**.\n",
        "\n",
        "$P(B_{1}|R) = \\frac{P(R|B_{1})P(B_{1})}{P(R)}$"
      ]
    },
    {
      "cell_type": "code",
      "metadata": {
        "id": "ZL1SL5TRwd6e",
        "colab": {
          "base_uri": "https://localhost:8080/"
        },
        "outputId": "22de479d-a77f-40ab-b87c-1d53d62488eb"
      },
      "source": [
        "# Probability that Bag 1 was chosen\n",
        "# YOUR CODE HERE\n",
        "P_B1_given_R = (PR_B1*P_B1)/PR\n",
        "print(\"Probability Bag 1 was chosen if draw was a Red ball =\", P_B1_given_R)"
      ],
      "execution_count": null,
      "outputs": [
        {
          "output_type": "stream",
          "name": "stdout",
          "text": [
            "Probability Bag 1 was chosen if draw was a Red ball = 0.4166666666666667\n"
          ]
        }
      ]
    },
    {
      "cell_type": "markdown",
      "metadata": {
        "id": "e_X8kY4tGTuc"
      },
      "source": [
        "**Exercise 7:** Suppose that two factories supply machines to the market. Factory X's machines work for over 5000 hours in 99% of cases, whereas factory Y's machines work for over 5000 hours in 95% of cases . It is known that factory X supplies 60% of the machines available and Y supplies 40% of the machines available. What is the chance that a purchased machine is manufactured by factory X given it works for longer than 5000 hours?"
      ]
    },
    {
      "cell_type": "markdown",
      "metadata": {
        "id": "qRgrSoBkGTuc"
      },
      "source": [
        "The above desired probability can be represented by the bayes theorem as:\n",
        " \n",
        "### $    P(B_X|A)= \\frac{P(A|B_X).P(B_X)}{P(A)}  $\n",
        "    \n",
        "where, $ P(B_X|A) $ is the probability that machine is manufactured by factory X given it work for over 5000 hours, and\n",
        "\n",
        "   $ P(A|B_X) $ is the probability that machine works for over 5000 hours given it is manufactured by factory X."
      ]
    },
    {
      "cell_type": "code",
      "metadata": {
        "id": "hTJTiUmYGTud",
        "colab": {
          "base_uri": "https://localhost:8080/"
        },
        "outputId": "688e2329-487a-4064-cd70-7ac79b8cc9ef"
      },
      "source": [
        "# According to question,\n",
        "P_BX = 0.6\n",
        "P_BY = 0.4\n",
        "P_A_given_BX = 0.99\n",
        "P_A_given_BY = 0.95\n",
        "\n",
        "# Using total probability theorem\n",
        "P_A = P_BX * P_A_given_BX + P_BY * P_A_given_BY\n",
        "print(P_A)"
      ],
      "execution_count": null,
      "outputs": [
        {
          "output_type": "stream",
          "name": "stdout",
          "text": [
            "0.974\n"
          ]
        }
      ]
    },
    {
      "cell_type": "code",
      "metadata": {
        "id": "9QiEYf0CGTud",
        "colab": {
          "base_uri": "https://localhost:8080/"
        },
        "outputId": "4e5c1973-bb05-499e-88b6-f8725f6a5a42"
      },
      "source": [
        "P_BX_given_A = P_A_given_BX * P_BX / P_A\n",
        "print('The probability that machine is manufactured by factory X given it work for longer than 5000 hours = ', P_BX_given_A)\n",
        "print('The percentage chance that machine is manufactured by factory X given it work for longer than 5000 hours = ', round(P_BX_given_A*100, 2), '%')"
      ],
      "execution_count": null,
      "outputs": [
        {
          "output_type": "stream",
          "name": "stdout",
          "text": [
            "The probability that machine is manufactured by factory X given it work for longer than 5000 hours =  0.6098562628336756\n",
            "The percentage chance that machine is manufactured by factory X given it work for longer than 5000 hours =  60.99 %\n"
          ]
        }
      ]
    },
    {
      "cell_type": "markdown",
      "metadata": {
        "id": "VHfHdGCP_n6Y"
      },
      "source": [
        "### Please answer the questions below to complete the experiment:\n",
        "\n",
        "\n"
      ]
    },
    {
      "cell_type": "code",
      "metadata": {
        "cellView": "form",
        "id": "-9x9aPUzqrG1"
      },
      "source": [
        "#@title Q.1. There are two identical bags containing respectively 6 black and 4 red balls, 2 black and 2 red balls. A bag is chosen at random and a ball is drawn from it. If the ball is black, what is the probability that it is from the first bag?\n",
        "Answer1 = \"6/11\" #@param [\"\",\"3/11\", \"6/11\",\"5/11\",\"10/11\"]\n"
      ],
      "execution_count": null,
      "outputs": []
    },
    {
      "cell_type": "code",
      "metadata": {
        "id": "K-pBcyuqoiss"
      },
      "source": [
        "#@title Q.2. A bucket contains 6 blue, 8 red and 9 black pens. If six pens are drawn one by one without replacement, find the probability of getting all black pens? { run: \"auto\", form-width: \"500px\", display-mode: \"form\" }\n",
        "Answer2 = \"4/4807\" #@param [\"\",\"8/213\", \"8/4807\", \"7/4328\", \"4/4807\"]\n"
      ],
      "execution_count": null,
      "outputs": []
    },
    {
      "cell_type": "code",
      "metadata": {
        "id": "IwO1qR4SCXLE"
      },
      "source": [
        "#@title How was the experiment? { run: \"auto\", form-width: \"500px\", display-mode: \"form\" }\n",
        "Complexity = \"Good, But Not Challenging for me\" #@param [\"\",\"Too Simple, I am wasting time\", \"Good, But Not Challenging for me\", \"Good and Challenging for me\", \"Was Tough, but I did it\", \"Too Difficult for me\"]\n"
      ],
      "execution_count": null,
      "outputs": []
    },
    {
      "cell_type": "code",
      "metadata": {
        "id": "SQt8zQg2CXLE"
      },
      "source": [
        "#@title If it was too easy, what more would you have liked to be added? If it was very difficult, what would you have liked to have been removed? { run: \"auto\", display-mode: \"form\" }\n",
        "Additional = \"Complexity of problems for Bayes theorem could be more\" #@param {type:\"string\"}\n"
      ],
      "execution_count": null,
      "outputs": []
    },
    {
      "cell_type": "code",
      "metadata": {
        "id": "SAS5E5DqCXLF"
      },
      "source": [
        "#@title Can you identify the concepts from the lecture which this experiment covered? { run: \"auto\", vertical-output: true, display-mode: \"form\" }\n",
        "Concepts = \"Yes\" #@param [\"\",\"Yes\", \"No\"]\n"
      ],
      "execution_count": null,
      "outputs": []
    },
    {
      "cell_type": "code",
      "metadata": {
        "id": "EdzcBU7KCXLF"
      },
      "source": [
        "#@title  Text and image description/explanation and code comments within the experiment: { run: \"auto\", vertical-output: true, display-mode: \"form\" }\n",
        "Comments = \"Very Useful\" #@param [\"\",\"Very Useful\", \"Somewhat Useful\", \"Not Useful\", \"Didn't use\"]\n"
      ],
      "execution_count": null,
      "outputs": []
    },
    {
      "cell_type": "code",
      "metadata": {
        "id": "Yyf9_t_fCXLF"
      },
      "source": [
        "#@title Mentor Support: { run: \"auto\", vertical-output: true, display-mode: \"form\" }\n",
        "Mentor_support = \"Didn't use\" #@param [\"\",\"Very Useful\", \"Somewhat Useful\", \"Not Useful\", \"Didn't use\"]\n"
      ],
      "execution_count": null,
      "outputs": []
    },
    {
      "cell_type": "code",
      "metadata": {
        "cellView": "form",
        "id": "WyoM-gpcCXLG",
        "colab": {
          "base_uri": "https://localhost:8080/"
        },
        "outputId": "0ebd2a14-b847-4455-b190-ffe50b04b60f"
      },
      "source": [
        "#@title Run this cell to submit your notebook for grading { vertical-output: true }\n",
        "try:\n",
        "  if submission_id:\n",
        "      return_id = submit_notebook()\n",
        "      if return_id : submission_id = return_id\n",
        "  else:\n",
        "      print(\"Please complete the setup first.\")\n",
        "except NameError:\n",
        "  print (\"Please complete the setup first.\")"
      ],
      "execution_count": null,
      "outputs": [
        {
          "output_type": "stream",
          "name": "stdout",
          "text": [
            "Your submission is successful.\n",
            "Ref Id: 123\n",
            "Date of submission:  26 May 2023\n",
            "Time of submission:  10:28:21\n",
            "View your submissions: https://dlfa-iisc.talentsprint.com/notebook_submissions\n"
          ]
        }
      ]
    }
  ]
}