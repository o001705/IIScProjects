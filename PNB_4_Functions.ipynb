{
  "nbformat": 4,
  "nbformat_minor": 0,
  "metadata": {
    "colab": {
      "provenance": [],
      "include_colab_link": true
    },
    "kernelspec": {
      "name": "python3",
      "display_name": "Python 3"
    }
  },
  "cells": [
    {
      "cell_type": "markdown",
      "metadata": {
        "id": "view-in-github",
        "colab_type": "text"
      },
      "source": [
        "<a href=\"https://colab.research.google.com/github/o001705/IIScProjects/blob/main/PNB_4_Functions.ipynb\" target=\"_parent\"><img src=\"https://colab.research.google.com/assets/colab-badge.svg\" alt=\"Open In Colab\"/></a>"
      ]
    },
    {
      "cell_type": "markdown",
      "source": [
        "## Practice Notebook\n",
        "\n",
        "\n"
      ],
      "metadata": {
        "id": "z3HaSE94quKx"
      }
    },
    {
      "cell_type": "markdown",
      "source": [
        "#### Manually Created Functions\n",
        "Functions are very easy to write in python and all non-trivial programs have functions. Function names have the same rules as variable names.\n",
        "\n",
        "#### Built in Functions\n",
        "Python comes with a nice set of built-in functions\n",
        "The complete set can be seen at:https://docs.python.org/3.6/library/functions.html\n",
        "\n",
        "We take a look at the most used ones here. "
      ],
      "metadata": {
        "id": "cjtwSnDTNwpI"
      }
    },
    {
      "cell_type": "markdown",
      "source": [
        "## Manually Created Functions"
      ],
      "metadata": {
        "id": "icKsHSwnULhw"
      }
    },
    {
      "cell_type": "markdown",
      "metadata": {
        "id": "gRs6bMS-YUgN"
      },
      "source": [
        "#### Exercise 01: Build a function that takes the below string as a parameter and returns the words in the given string in backward order.\n",
        "\n",
        "Hint: [Split the words and join them in the reverse order using ' '.join(iterable)](https://docs.python.org/3/library/stdtypes.html)"
      ]
    },
    {
      "cell_type": "code",
      "metadata": {
        "id": "7zS2WRHBYUgR"
      },
      "source": [
        "string1 = \"my name is johnny\""
      ],
      "execution_count": 27,
      "outputs": []
    },
    {
      "cell_type": "code",
      "metadata": {
        "id": "8YbeeR45dDAJ",
        "colab": {
          "base_uri": "https://localhost:8080/"
        },
        "outputId": "8101f4df-62b5-489e-a27e-54e9d37918e8"
      },
      "source": [
        "def reverse_string_words(str):\n",
        "  l = str.split()\n",
        "  l.reverse()\n",
        "  return ' '.join(l)\n",
        "print(reverse_string_words(string1))"
      ],
      "execution_count": 32,
      "outputs": [
        {
          "output_type": "stream",
          "name": "stdout",
          "text": [
            "johnny is name my\n"
          ]
        }
      ]
    },
    {
      "cell_type": "markdown",
      "metadata": {
        "id": "QmjnX-rNkxxe"
      },
      "source": [
        "#### Exercise 02: For the given tuple of numbers, do the following:\n",
        "* Write a function which takes an integer 'N' as a parameter and returns the sum of multiples of 3 or 5 between 0 and N (limit). Where N is any element from the given tuple.\n",
        "* Print all the sum of multiples for each element from the tuple.\n",
        "* Example: If we list all the natural numbers less than 10 that are multiples of 3 or 5, we get 3, 5, 6, and 9 and their sum is 23"
      ]
    },
    {
      "cell_type": "code",
      "metadata": {
        "id": "8aEXBfFAlXhD"
      },
      "source": [
        "tuple2 = (10, 20, 30, 40, 50)"
      ],
      "execution_count": null,
      "outputs": []
    },
    {
      "cell_type": "code",
      "metadata": {
        "id": "GpyN1zSKRS-_",
        "colab": {
          "base_uri": "https://localhost:8080/"
        },
        "outputId": "efe73470-d98e-40c3-a02d-0bb1a5c53baa"
      },
      "source": [
        "def my_function(N):\n",
        "  sum = -1\n",
        "  if (N in tuple2):\n",
        "    sum = 0\n",
        "    for i in range(1, N):\n",
        "      if (i % 3 == 0) or (i % 5 == 0):\n",
        "        sum = sum + i\n",
        "  return sum\n",
        "print(my_function(10))"
      ],
      "execution_count": 34,
      "outputs": [
        {
          "output_type": "stream",
          "name": "stdout",
          "text": [
            "23\n"
          ]
        }
      ]
    },
    {
      "cell_type": "markdown",
      "metadata": {
        "id": "Eush4rnY_Gy2"
      },
      "source": [
        "#### Exercise 03: Build a function to print prime numbers within the given range."
      ]
    },
    {
      "cell_type": "code",
      "metadata": {
        "id": "XOWLvObDvVNQ",
        "colab": {
          "base_uri": "https://localhost:8080/"
        },
        "outputId": "d393ad80-760f-4cb3-b9f7-cef9321decdf"
      },
      "source": [
        "limit = 10\n",
        "def list_prime_numbers(N):\n",
        "  prime_list = [];\n",
        "  for number in range(2,N+1):\n",
        "    is_prime = True;\n",
        "    for i in range(2, number):\n",
        "      if (number % i == 0):\n",
        "        is_prime=False\n",
        "        break;\n",
        "    if (is_prime):\n",
        "      prime_list.append(number)\n",
        "  return prime_list\n",
        "list_prime_numbers(limit)      "
      ],
      "execution_count": 43,
      "outputs": [
        {
          "output_type": "execute_result",
          "data": {
            "text/plain": [
              "[2, 3, 5, 7]"
            ]
          },
          "metadata": {},
          "execution_count": 43
        }
      ]
    },
    {
      "cell_type": "markdown",
      "metadata": {
        "id": "JoecaqnzRahf"
      },
      "source": [
        "#### Exercise 4: Rock Paper Scissors: Complete the function below that takes the given input word as a parameter and selects a random element from the words list. It then prints the random word within the function and returns a string, declaring 'win' or 'lose' or 'tie'.\n",
        "\n",
        "Example: Random input= 'Scissors', User input= Paper, Output = 'lose'\n",
        "\n",
        "Hint: [random.choice](https://docs.python.org/3/library/random.html)"
      ]
    },
    {
      "cell_type": "code",
      "metadata": {
        "id": "-hXoV_CdR9Os",
        "colab": {
          "base_uri": "https://localhost:8080/"
        },
        "outputId": "100ffd55-bc9b-4a67-fdfe-59ad74d65ce7"
      },
      "source": [
        "import random\n",
        "words = ['Rock','Paper','Scissors']\n",
        "\n",
        "def game(myinput):\n",
        "  result = 'Invalid Input'\n",
        "  random_word = random.choice(words)\n",
        "  print(\"Computer Says: \", random_word)\n",
        "  if (myinput == random_word):\n",
        "    return 'Tie'\n",
        "  elif (myinput == 'Rock'):\n",
        "    if (random_word == 'Paper'):\n",
        "      result = 'lose'\n",
        "    else:\n",
        "      result = 'win'\n",
        "  elif (myinput == 'Paper'):\n",
        "    if (random_word == 'Scissors'):\n",
        "      result = 'lose'\n",
        "    else:\n",
        "      result = 'win'\n",
        "  elif (myinput == 'Scissors'):\n",
        "    if (random_word == 'Rock'):\n",
        "      result = 'lose'\n",
        "    else:\n",
        "      result = 'win'\n",
        "  else:\n",
        "    result = 'Invalid Input'\n",
        "  return result\n",
        "  \n",
        "string1 = \"Rock\"\n",
        "print('You: ', game(string1))\n"
      ],
      "execution_count": 65,
      "outputs": [
        {
          "output_type": "stream",
          "name": "stdout",
          "text": [
            "Computer Says:  Rock\n",
            "You:  Tie\n"
          ]
        }
      ]
    },
    {
      "cell_type": "markdown",
      "source": [
        "## Built-in Functions"
      ],
      "metadata": {
        "id": "zGN4_CEaUHs4"
      }
    },
    {
      "cell_type": "markdown",
      "source": [
        "#### Exercise 05: Extract maximum value of each element in the given list using the built-in max function.\n",
        "\n",
        "\n",
        "\n",
        "Hint: [max(iterable)](https://docs.python.org/3/library/functions.html#max)"
      ],
      "metadata": {
        "id": "tQOfYzymO4ek"
      }
    },
    {
      "cell_type": "code",
      "source": [
        "list1 = [[1,2,4],[5,6],[8,9,12],[21,44],[121]]"
      ],
      "metadata": {
        "id": "mP0ba14iO7JT"
      },
      "execution_count": 67,
      "outputs": []
    },
    {
      "cell_type": "code",
      "source": [
        "for lst in list1:\n",
        "  print(max(lst))"
      ],
      "metadata": {
        "id": "Vj3mGI5bO_Pq",
        "colab": {
          "base_uri": "https://localhost:8080/"
        },
        "outputId": "4d738e8e-1d0a-48fb-eba6-90dcf662a87c"
      },
      "execution_count": 68,
      "outputs": [
        {
          "output_type": "stream",
          "name": "stdout",
          "text": [
            "4\n",
            "6\n",
            "12\n",
            "44\n",
            "121\n"
          ]
        }
      ]
    },
    {
      "cell_type": "markdown",
      "source": [
        "#### Exercise 06: For given list *a* and *b* perform the following Aggregate Functions\n",
        "* len(iterable)\n",
        "* max(iterable)\n",
        "* min(iterable)\n",
        "* sorted(iterable, key, reverse)\n",
        "* sum(iterable, start)"
      ],
      "metadata": {
        "id": "NsrffgW5PFvL"
      }
    },
    {
      "cell_type": "code",
      "source": [
        "a = [1, 2, 3, 4, 5, 6, 7, 8, 9, 10]\n",
        "b = [5,10, 15, 20, 25, 30, 35, 40, 45, 50]"
      ],
      "metadata": {
        "id": "liPmIx_mPWVM"
      },
      "execution_count": 73,
      "outputs": []
    },
    {
      "cell_type": "code",
      "source": [
        "print(len(a))\n",
        "print(max(a))\n",
        "print(min(a))\n",
        "print(sorted(a,key=None,reverse=True))\n",
        "print(sum(a))\n",
        "\n",
        "print(len(b))\n",
        "print(max(b))\n",
        "print(min(b))\n",
        "print(sorted(b,key=None,reverse=True))\n",
        "print(sum(b))\n"
      ],
      "metadata": {
        "id": "_8E9DUwqPeTB",
        "colab": {
          "base_uri": "https://localhost:8080/"
        },
        "outputId": "514d78a1-ed26-4c71-8c6d-3e6b995d5f09"
      },
      "execution_count": 82,
      "outputs": [
        {
          "output_type": "stream",
          "name": "stdout",
          "text": [
            "10\n",
            "10\n",
            "1\n",
            "[10, 9, 8, 7, 6, 5, 4, 3, 2, 1]\n",
            "55\n",
            "10\n",
            "50\n",
            "5\n",
            "[50, 45, 40, 35, 30, 25, 20, 15, 10, 5]\n",
            "275\n"
          ]
        }
      ]
    },
    {
      "cell_type": "markdown",
      "source": [
        "#### Exercise 07: Print the data type of x, y and z  values "
      ],
      "metadata": {
        "id": "yerVE_tzVG39"
      }
    },
    {
      "cell_type": "code",
      "source": [
        "x = 10\n",
        "print(type(x))\n",
        "\n",
        "y = 12.6\n",
        "print(type(y))\n",
        "  \n",
        "z = x + y  \n",
        "print(type(z))\n"
      ],
      "metadata": {
        "id": "xeR5yEdnPphw",
        "colab": {
          "base_uri": "https://localhost:8080/"
        },
        "outputId": "e461b2ae-0810-432f-d8b3-49cd6bfea508"
      },
      "execution_count": 83,
      "outputs": [
        {
          "output_type": "stream",
          "name": "stdout",
          "text": [
            "<class 'int'>\n",
            "<class 'float'>\n",
            "<class 'float'>\n"
          ]
        }
      ]
    },
    {
      "cell_type": "markdown",
      "source": [
        "Exercise 08:  Initialize the string and perform the following:\n",
        "\n",
        "1. Check the type of string\n",
        "2. convert string to int and check the type"
      ],
      "metadata": {
        "id": "SaPsPE9Idbqn"
      }
    },
    {
      "cell_type": "code",
      "source": [
        "a = '1234'\n",
        "print(type(a))\n",
        "a = int(a)\n",
        "print(type(a))"
      ],
      "metadata": {
        "id": "NRBsQnHMVas6",
        "colab": {
          "base_uri": "https://localhost:8080/"
        },
        "outputId": "f6de31fb-b58a-4e2d-e919-ed297c435f7d"
      },
      "execution_count": 84,
      "outputs": [
        {
          "output_type": "stream",
          "name": "stdout",
          "text": [
            "<class 'str'>\n",
            "<class 'int'>\n"
          ]
        }
      ]
    },
    {
      "cell_type": "code",
      "source": [],
      "metadata": {
        "id": "9RUhtfSngtQx"
      },
      "execution_count": null,
      "outputs": []
    }
  ]
}